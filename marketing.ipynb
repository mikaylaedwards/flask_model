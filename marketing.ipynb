{
 "cells": [
  {
   "cell_type": "code",
   "execution_count": 59,
   "metadata": {},
   "outputs": [],
   "source": [
    "import pandas as pd\n",
    "from bokeh.io import show, output_file\n",
    "from bokeh.plotting import figure\n",
    "\n",
    "marketing=pd.read_csv(\"data/marketing_new.csv\",index_col=0)"
   ]
  },
  {
   "cell_type": "code",
   "execution_count": 66,
   "metadata": {},
   "outputs": [
    {
     "name": "stdout",
     "output_type": "stream",
     "text": [
      "3.7.3.final.0\n"
     ]
    }
   ],
   "source": [
    "marketing.head()"
   ]
  },
  {
   "cell_type": "markdown",
   "metadata": {},
   "source": [
    "I want to look at how conversion rate differs by various groups in the data. I will write a function to calculate the conversion rate by any arbitrary grouping so that I can look at many different slices quickly. \n",
    "\n",
    "1. The function first filters for converted users & counts the number of by group as num_conv (a series object).\n",
    "\n",
    "2. Then it counts the total number of users in the group as total (also a series)\n",
    "\n",
    "3. It returns a series object with a conversion rate by group\n"
   ]
  },
  {
   "cell_type": "code",
   "execution_count": 4,
   "metadata": {},
   "outputs": [],
   "source": [
    "def get_conversion_rate(df, grouping):\n",
    "    num_conv = df[df['converted'] == True]\\\n",
    "                       .groupby(grouping)['user_id'].nunique()\n",
    "\n",
    "    total = df.groupby(grouping)['user_id'].nunique()   \n",
    "    \n",
    "    conversion_rate = num_conv/total\n",
    "    \n",
    "    conversion_rate = conversion_rate.fillna(0)\n",
    "    \n",
    "    return conversion_rate\n"
   ]
  },
  {
   "cell_type": "markdown",
   "metadata": {},
   "source": [
    "I can then call it for many different groupings..."
   ]
  },
  {
   "cell_type": "code",
   "execution_count": 5,
   "metadata": {},
   "outputs": [
    {
     "data": {
      "text/plain": [
       "age_group\n",
       "0-18 years     0.160596\n",
       "19-24 years    0.234124\n",
       "24-30 years    0.188525\n",
       "30-36 years    0.074599\n",
       "36-45 years    0.071834\n",
       "45-55 years    0.072779\n",
       "55+ years      0.079511\n",
       "Name: user_id, dtype: float64"
      ]
     },
     "execution_count": 5,
     "metadata": {},
     "output_type": "execute_result"
    }
   ],
   "source": [
    "#by age group \n",
    "get_conversion_rate(marketing,['age_group'])"
   ]
  },
  {
   "cell_type": "code",
   "execution_count": 6,
   "metadata": {},
   "outputs": [
    {
     "data": {
      "text/plain": [
       "date_served  marketing_channel\n",
       "2018-01-01   Email                1.000000\n",
       "             Facebook             0.117647\n",
       "             House Ads            0.084656\n",
       "             Instagram            0.106667\n",
       "             Push                 0.083333\n",
       "2018-01-02   Email                1.000000\n",
       "             Facebook             0.098361\n",
       "             House Ads            0.077982\n",
       "             Instagram            0.129032\n",
       "             Push                 0.055556\n",
       "2018-01-03   Email                0.000000\n",
       "             Facebook             0.080645\n",
       "             House Ads            0.088542\n",
       "             Instagram            0.171875\n",
       "             Push                 0.083333\n",
       "Name: user_id, dtype: float64"
      ]
     },
     "execution_count": 6,
     "metadata": {},
     "output_type": "execute_result"
    }
   ],
   "source": [
    "#multiple groupings\n",
    "get_conversion_rate(marketing,['date_served','marketing_channel']).head(15)"
   ]
  },
  {
   "cell_type": "markdown",
   "metadata": {},
   "source": [
    "When I group by two columns, I see that the conversion for the email channel is 100% on some days but 0% on others.This is strange, so it would be useful to know what the actual #'s were for converted users and total users. It might be the case that no emails were sent on 1-03. \n",
    "So what if my function instead returns a dataframe that also has a column with # converted & # total ? \n",
    "\n",
    "I will again create the two series objects but will this time merge them to keep both of their values and assign a new column for conversion rate. I need to use an outer join and fill NA to 0 to keep all rows (otherwise Email on 1-03 would be dropped since no conversions on this date). "
   ]
  },
  {
   "cell_type": "code",
   "execution_count": 7,
   "metadata": {},
   "outputs": [
    {
     "data": {
      "text/html": [
       "<div>\n",
       "<style scoped>\n",
       "    .dataframe tbody tr th:only-of-type {\n",
       "        vertical-align: middle;\n",
       "    }\n",
       "\n",
       "    .dataframe tbody tr th {\n",
       "        vertical-align: top;\n",
       "    }\n",
       "\n",
       "    .dataframe thead th {\n",
       "        text-align: right;\n",
       "    }\n",
       "</style>\n",
       "<table border=\"1\" class=\"dataframe\">\n",
       "  <thead>\n",
       "    <tr style=\"text-align: right;\">\n",
       "      <th></th>\n",
       "      <th>marketing_channel</th>\n",
       "      <th>num_converted</th>\n",
       "      <th>num_total</th>\n",
       "      <th>not_conv</th>\n",
       "      <th>conv_rate</th>\n",
       "    </tr>\n",
       "  </thead>\n",
       "  <tbody>\n",
       "    <tr>\n",
       "      <th>0</th>\n",
       "      <td>Email</td>\n",
       "      <td>187</td>\n",
       "      <td>553</td>\n",
       "      <td>366</td>\n",
       "      <td>0.338156</td>\n",
       "    </tr>\n",
       "    <tr>\n",
       "      <th>1</th>\n",
       "      <td>Facebook</td>\n",
       "      <td>221</td>\n",
       "      <td>1758</td>\n",
       "      <td>1537</td>\n",
       "      <td>0.125711</td>\n",
       "    </tr>\n",
       "    <tr>\n",
       "      <th>2</th>\n",
       "      <td>House Ads</td>\n",
       "      <td>298</td>\n",
       "      <td>3968</td>\n",
       "      <td>3670</td>\n",
       "      <td>0.075101</td>\n",
       "    </tr>\n",
       "    <tr>\n",
       "      <th>3</th>\n",
       "      <td>Instagram</td>\n",
       "      <td>232</td>\n",
       "      <td>1740</td>\n",
       "      <td>1508</td>\n",
       "      <td>0.133333</td>\n",
       "    </tr>\n",
       "    <tr>\n",
       "      <th>4</th>\n",
       "      <td>Push</td>\n",
       "      <td>77</td>\n",
       "      <td>972</td>\n",
       "      <td>895</td>\n",
       "      <td>0.079218</td>\n",
       "    </tr>\n",
       "  </tbody>\n",
       "</table>\n",
       "</div>"
      ],
      "text/plain": [
       "  marketing_channel  num_converted  num_total  not_conv  conv_rate\n",
       "0             Email            187        553       366   0.338156\n",
       "1          Facebook            221       1758      1537   0.125711\n",
       "2         House Ads            298       3968      3670   0.075101\n",
       "3         Instagram            232       1740      1508   0.133333\n",
       "4              Push             77        972       895   0.079218"
      ]
     },
     "execution_count": 7,
     "metadata": {},
     "output_type": "execute_result"
    }
   ],
   "source": [
    "def get_conversion_rate(df,grouping):\n",
    "    num_convs=df[df['converted'] == True]\\\n",
    "                       .groupby(grouping)['user_id'].nunique().rename('num_converted')\n",
    "\n",
    "    total = df.groupby(grouping)['user_id'].nunique().rename('num_total')\n",
    "\n",
    "    conv_rate=pd.merge(num_convs,total,left_index=True,right_index=True,how='outer')\\\n",
    "        .assign(not_conv=lambda x: x['num_total']-x['num_converted'],conv_rate=lambda x: x['num_converted']/x['num_total'])\\\n",
    "        .fillna(0)\n",
    "    return conv_rate.reset_index()\n",
    "\n",
    "get_conversion_rate(marketing,['marketing_channel'])\n",
    "\n",
    "\n",
    "\n"
   ]
  },
  {
   "cell_type": "code",
   "execution_count": 9,
   "metadata": {},
   "outputs": [],
   "source": [
    "from bokeh.io import show, output_notebook\n",
    "from bokeh.plotting import figure\n",
    "from bokeh.models import ColumnDataSource, HoverTool\n",
    "from bokeh.palettes import RdBu3,Spectral5\n",
    "from bokeh.transform import factor_cmap\n",
    "\n",
    "\n",
    "def make_plot(df,col_name):\n",
    "    \n",
    "    grouped=get_conversion_rate(df,[col_name])\n",
    "    \n",
    "    source = ColumnDataSource(grouped)\n",
    "    group=source.data[col_name].tolist()\n",
    "\n",
    "    group_cmap = factor_cmap(col_name, palette=Spectral5, factors=sorted(grouped[col_name].unique()))\n",
    "\n",
    "    title=\"Conversion by: \" + col_name\n",
    "    p = figure(plot_height=350, x_range=group, title=title)\n",
    "\n",
    "    p.vbar(x=col_name, top='num_converted', width=1,\n",
    "       line_color=group_cmap, fill_color=group_cmap,source=source)\n",
    "        \n",
    "    p.y_range.start = 0\n",
    "    p.xgrid.grid_line_color = None\n",
    "    p.xaxis.axis_label =col_name\n",
    "    p.xaxis.major_label_orientation = 1.2\n",
    "    p.outline_line_color = None\n",
    "    \n",
    "    return p\n",
    "\n",
    "show(make_plot(marketing,'marketing_channel'))"
   ]
  },
  {
   "cell_type": "markdown",
   "metadata": {},
   "source": [
    "From this, it is more clear that the email channel is so small that the conversion rate is not meaningful. "
   ]
  },
  {
   "cell_type": "markdown",
   "metadata": {},
   "source": [
    "### Bokeh Visualizations\n",
    "\n"
   ]
  },
  {
   "cell_type": "markdown",
   "metadata": {},
   "source": [
    "Get grouped dataframe with counts"
   ]
  },
  {
   "cell_type": "code",
   "execution_count": 9,
   "metadata": {},
   "outputs": [
    {
     "data": {
      "text/html": [
       "\n",
       "\n",
       "\n",
       "\n",
       "\n",
       "\n",
       "  <div class=\"bk-root\" id=\"8af64542-8742-49e6-a949-52f8e7569492\" data-root-id=\"1207\"></div>\n"
      ]
     },
     "metadata": {},
     "output_type": "display_data"
    },
    {
     "data": {
      "application/javascript": [
       "(function(root) {\n",
       "  function embed_document(root) {\n",
       "    \n",
       "  var docs_json = {\"cef915c2-5587-485d-b4e8-d44720c27194\":{\"roots\":{\"references\":[{\"attributes\":{\"below\":[{\"id\":\"1218\",\"type\":\"CategoricalAxis\"}],\"center\":[{\"id\":\"1221\",\"type\":\"Grid\"},{\"id\":\"1226\",\"type\":\"Grid\"},{\"id\":\"1242\",\"type\":\"Legend\"}],\"left\":[{\"id\":\"1222\",\"type\":\"LinearAxis\"}],\"outline_line_color\":{\"value\":null},\"plot_height\":350,\"plot_width\":500,\"renderers\":[{\"id\":\"1235\",\"type\":\"GlyphRenderer\"},{\"id\":\"1247\",\"type\":\"GlyphRenderer\"}],\"title\":{\"id\":\"1208\",\"type\":\"Title\"},\"toolbar\":{\"id\":\"1227\",\"type\":\"Toolbar\"},\"toolbar_location\":null,\"x_range\":{\"id\":\"1210\",\"type\":\"FactorRange\"},\"x_scale\":{\"id\":\"1214\",\"type\":\"CategoricalScale\"},\"y_range\":{\"id\":\"1212\",\"type\":\"DataRange1d\"},\"y_scale\":{\"id\":\"1216\",\"type\":\"LinearScale\"}},\"id\":\"1207\",\"subtype\":\"Figure\",\"type\":\"Plot\"},{\"attributes\":{\"callback\":null,\"tooltips\":[[\"Conversions\",\"@num_converted\"],[\"Non-conversions\",\"@not_conv\"],[\"channel\",\"@marketing_channel\"]]},\"id\":\"1257\",\"type\":\"HoverTool\"},{\"attributes\":{\"source\":{\"id\":\"1101\",\"type\":\"ColumnDataSource\"}},\"id\":\"1248\",\"type\":\"CDSView\"},{\"attributes\":{\"items\":[{\"id\":\"1243\",\"type\":\"LegendItem\"},{\"id\":\"1256\",\"type\":\"LegendItem\"}]},\"id\":\"1242\",\"type\":\"Legend\"},{\"attributes\":{},\"id\":\"1241\",\"type\":\"BasicTickFormatter\"},{\"attributes\":{\"fields\":[\"num_converted\"]},\"id\":\"1230\",\"type\":\"Stack\"},{\"attributes\":{},\"id\":\"1239\",\"type\":\"CategoricalTickFormatter\"},{\"attributes\":{\"bottom\":{\"expr\":{\"id\":\"1228\",\"type\":\"Stack\"}},\"fill_color\":{\"value\":\"#c9d9d3\"},\"line_color\":{\"value\":\"#c9d9d3\"},\"top\":{\"expr\":{\"id\":\"1229\",\"type\":\"Stack\"}},\"width\":{\"value\":0.6},\"x\":{\"field\":\"marketing_channel\"}},\"id\":\"1233\",\"type\":\"VBar\"},{\"attributes\":{\"axis_label\":\"marketing_channel\",\"formatter\":{\"id\":\"1239\",\"type\":\"CategoricalTickFormatter\"},\"major_label_orientation\":1.2,\"ticker\":{\"id\":\"1219\",\"type\":\"CategoricalTicker\"}},\"id\":\"1218\",\"type\":\"CategoricalAxis\"},{\"attributes\":{\"data_source\":{\"id\":\"1101\",\"type\":\"ColumnDataSource\"},\"glyph\":{\"id\":\"1233\",\"type\":\"VBar\"},\"hover_glyph\":null,\"muted_glyph\":null,\"name\":\"num_converted\",\"nonselection_glyph\":{\"id\":\"1234\",\"type\":\"VBar\"},\"selection_glyph\":null,\"view\":{\"id\":\"1236\",\"type\":\"CDSView\"}},\"id\":\"1235\",\"type\":\"GlyphRenderer\"},{\"attributes\":{\"grid_line_color\":null,\"ticker\":{\"id\":\"1219\",\"type\":\"CategoricalTicker\"}},\"id\":\"1221\",\"type\":\"Grid\"},{\"attributes\":{\"bottom\":{\"expr\":{\"id\":\"1228\",\"type\":\"Stack\"}},\"fill_alpha\":{\"value\":0.1},\"fill_color\":{\"value\":\"#1f77b4\"},\"line_alpha\":{\"value\":0.1},\"line_color\":{\"value\":\"#1f77b4\"},\"top\":{\"expr\":{\"id\":\"1229\",\"type\":\"Stack\"}},\"width\":{\"value\":0.6},\"x\":{\"field\":\"marketing_channel\"}},\"id\":\"1234\",\"type\":\"VBar\"},{\"attributes\":{\"formatter\":{\"id\":\"1241\",\"type\":\"BasicTickFormatter\"},\"ticker\":{\"id\":\"1223\",\"type\":\"BasicTicker\"}},\"id\":\"1222\",\"type\":\"LinearAxis\"},{\"attributes\":{\"fields\":[\"num_converted\",\"not_conv\"]},\"id\":\"1231\",\"type\":\"Stack\"},{\"attributes\":{},\"id\":\"1156\",\"type\":\"UnionRenderers\"},{\"attributes\":{\"active_drag\":\"auto\",\"active_inspect\":\"auto\",\"active_multi\":null,\"active_scroll\":\"auto\",\"active_tap\":\"auto\",\"tools\":[{\"id\":\"1257\",\"type\":\"HoverTool\"}]},\"id\":\"1227\",\"type\":\"Toolbar\"},{\"attributes\":{\"fields\":[]},\"id\":\"1228\",\"type\":\"Stack\"},{\"attributes\":{},\"id\":\"1157\",\"type\":\"Selection\"},{\"attributes\":{},\"id\":\"1219\",\"type\":\"CategoricalTicker\"},{\"attributes\":{\"fields\":[\"num_converted\"]},\"id\":\"1229\",\"type\":\"Stack\"},{\"attributes\":{\"label\":{\"value\":\"Not Converted\"},\"renderers\":[{\"id\":\"1247\",\"type\":\"GlyphRenderer\"}]},\"id\":\"1256\",\"type\":\"LegendItem\"},{\"attributes\":{\"bottom\":{\"expr\":{\"id\":\"1230\",\"type\":\"Stack\"}},\"fill_alpha\":{\"value\":0.1},\"fill_color\":{\"value\":\"#1f77b4\"},\"line_alpha\":{\"value\":0.1},\"line_color\":{\"value\":\"#1f77b4\"},\"top\":{\"expr\":{\"id\":\"1231\",\"type\":\"Stack\"}},\"width\":{\"value\":0.6},\"x\":{\"field\":\"marketing_channel\"}},\"id\":\"1246\",\"type\":\"VBar\"},{\"attributes\":{\"bottom\":{\"expr\":{\"id\":\"1230\",\"type\":\"Stack\"}},\"fill_color\":{\"value\":\"#e84d60\"},\"line_color\":{\"value\":\"#e84d60\"},\"top\":{\"expr\":{\"id\":\"1231\",\"type\":\"Stack\"}},\"width\":{\"value\":0.6},\"x\":{\"field\":\"marketing_channel\"}},\"id\":\"1245\",\"type\":\"VBar\"},{\"attributes\":{\"dimension\":1,\"ticker\":{\"id\":\"1223\",\"type\":\"BasicTicker\"}},\"id\":\"1226\",\"type\":\"Grid\"},{\"attributes\":{\"callback\":null,\"factors\":[\"Email\",\"Facebook\",\"House Ads\",\"Instagram\",\"Push\"]},\"id\":\"1210\",\"type\":\"FactorRange\"},{\"attributes\":{\"callback\":null,\"data\":{\"conv_rate\":{\"__ndarray__\":\"SaveB1ek1T/LGpyYTBfAPzrnnHPOObM/ERERERERwT/sYMxKo0e0Pw==\",\"dtype\":\"float64\",\"shape\":[5]},\"index\":[0,1,2,3,4],\"marketing_channel\":[\"Email\",\"Facebook\",\"House Ads\",\"Instagram\",\"Push\"],\"not_conv\":[366,1537,3670,1508,895],\"num_converted\":[187,221,298,232,77],\"num_total\":[553,1758,3968,1740,972]},\"selected\":{\"id\":\"1157\",\"type\":\"Selection\"},\"selection_policy\":{\"id\":\"1156\",\"type\":\"UnionRenderers\"}},\"id\":\"1101\",\"type\":\"ColumnDataSource\"},{\"attributes\":{\"source\":{\"id\":\"1101\",\"type\":\"ColumnDataSource\"}},\"id\":\"1236\",\"type\":\"CDSView\"},{\"attributes\":{\"data_source\":{\"id\":\"1101\",\"type\":\"ColumnDataSource\"},\"glyph\":{\"id\":\"1245\",\"type\":\"VBar\"},\"hover_glyph\":null,\"muted_glyph\":null,\"name\":\"not_conv\",\"nonselection_glyph\":{\"id\":\"1246\",\"type\":\"VBar\"},\"selection_glyph\":null,\"view\":{\"id\":\"1248\",\"type\":\"CDSView\"}},\"id\":\"1247\",\"type\":\"GlyphRenderer\"},{\"attributes\":{},\"id\":\"1223\",\"type\":\"BasicTicker\"},{\"attributes\":{\"callback\":null,\"start\":0},\"id\":\"1212\",\"type\":\"DataRange1d\"},{\"attributes\":{\"label\":{\"value\":\"Converted\"},\"renderers\":[{\"id\":\"1235\",\"type\":\"GlyphRenderer\"}]},\"id\":\"1243\",\"type\":\"LegendItem\"},{\"attributes\":{},\"id\":\"1214\",\"type\":\"CategoricalScale\"},{\"attributes\":{\"text\":\"Stacked Conversion By Channel\"},\"id\":\"1208\",\"type\":\"Title\"},{\"attributes\":{},\"id\":\"1216\",\"type\":\"LinearScale\"}],\"root_ids\":[\"1207\"]},\"title\":\"Bokeh Application\",\"version\":\"1.4.0\"}};\n",
       "  var render_items = [{\"docid\":\"cef915c2-5587-485d-b4e8-d44720c27194\",\"roots\":{\"1207\":\"8af64542-8742-49e6-a949-52f8e7569492\"}}];\n",
       "  root.Bokeh.embed.embed_items_notebook(docs_json, render_items);\n",
       "\n",
       "  }\n",
       "  if (root.Bokeh !== undefined) {\n",
       "    embed_document(root);\n",
       "  } else {\n",
       "    var attempts = 0;\n",
       "    var timer = setInterval(function(root) {\n",
       "      if (root.Bokeh !== undefined) {\n",
       "        clearInterval(timer);\n",
       "        embed_document(root);\n",
       "      } else {\n",
       "        attempts++;\n",
       "        if (attempts > 100) {\n",
       "          clearInterval(timer);\n",
       "          console.log(\"Bokeh: ERROR: Unable to run BokehJS code because BokehJS library is missing\");\n",
       "        }\n",
       "      }\n",
       "    }, 10, root)\n",
       "  }\n",
       "})(window);"
      ],
      "application/vnd.bokehjs_exec.v0+json": ""
     },
     "metadata": {
      "application/vnd.bokehjs_exec.v0+json": {
       "id": "1207"
      }
     },
     "output_type": "display_data"
    }
   ],
   "source": [
    "#stacked bar\n",
    "\n",
    "stacks=['num_converted','not_conv']\n",
    "colors = [\"#c9d9d3\", \"#e84d60\"]\n",
    "\n",
    "p2 = figure(plot_height=350, plot_width=500, x_range=group, title=\"Stacked Conversion By Channel\",\n",
    "           toolbar_location=None, tools=\"\")\n",
    "\n",
    "p2.vbar_stack(stacks, x='marketing_channel',width=0.6, color=colors, source=source,\n",
    "             legend_label=['Converted','Not Converted'])\n",
    "\n",
    "hover_tool = HoverTool(tooltips=[\n",
    "            ('Conversions', '@num_converted'),\n",
    "            ('Non-conversions', '@not_conv'),\n",
    "            ('channel', '@marketing_channel'),\n",
    "        ])\n",
    "\n",
    "p2.tools.append(hover_tool)\n",
    "\n",
    "p2.y_range.start = 0\n",
    "p2.xgrid.grid_line_color = None\n",
    "p2.xaxis.axis_label = 'marketing_channel'\n",
    "p2.xaxis.major_label_orientation = 1.2\n",
    "p2.outline_line_color = None\n",
    "\n",
    "show(p2)"
   ]
  },
  {
   "cell_type": "markdown",
   "metadata": {},
   "source": [
    "### Modeling\n",
    "Now I will build some simple models to predict conversion from a subset of features"
   ]
  },
  {
   "cell_type": "code",
   "execution_count": 67,
   "metadata": {},
   "outputs": [
    {
     "data": {
      "text/plain": [
       "['marketing_channel', 'subscribing_channel', 'age_group']"
      ]
     },
     "execution_count": 67,
     "metadata": {},
     "output_type": "execute_result"
    }
   ],
   "source": [
    "from sklearn.model_selection import train_test_split\n",
    "X = marketing[['marketing_channel','subscribing_channel','age_group']]\n",
    "y = marketing['converted']\n",
    "X_train, X_test, y_train, y_test = train_test_split(X, y, test_size=0.2)\n"
   ]
  },
  {
   "cell_type": "code",
   "execution_count": 57,
   "metadata": {},
   "outputs": [
    {
     "name": "stdout",
     "output_type": "stream",
     "text": [
      "   age_group marketing_channel subscribing_channel\n",
      "0  55+ years         House Ads           Instagram\n",
      "100.0%\n"
     ]
    },
    {
     "data": {
      "text/plain": [
       "False"
      ]
     },
     "execution_count": 57,
     "metadata": {},
     "output_type": "execute_result"
    }
   ],
   "source": [
    "import pickle\n",
    "import pandas as pd\n",
    "import numpy as np\n",
    "\n",
    "loaded_model=pickle.load(open(\"model.pkl\",\"rb\"))\n",
    "json={\"marketing_channel\": \"House Ads\", \"subscribing_channel\": \"Instagram\", \"age_group\": \"55+ years\"}  \n",
    "query = pd.DataFrame([json])\n",
    "print(query)\n",
    "\n",
    "def pred(query):\n",
    "    p=loaded_model.predict_proba(query)\n",
    "    \n",
    "    p=tuple(p[0,])\n",
    "    if p[0]>.5:\n",
    "        print(str(p[0]*100)+'%')\n",
    "        return False\n",
    "    else:\n",
    "        print(p[1]*100)\n",
    "        return True\n",
    "    \n",
    "\n",
    "pred(query)\n",
    "\n",
    "\n",
    "\n",
    "\n"
   ]
  },
  {
   "cell_type": "code",
   "execution_count": 44,
   "metadata": {},
   "outputs": [
    {
     "ename": "SyntaxError",
     "evalue": "invalid syntax (<ipython-input-44-d0aeb51a6ffc>, line 4)",
     "output_type": "error",
     "traceback": [
      "\u001b[1;36m  File \u001b[1;32m\"<ipython-input-44-d0aeb51a6ffc>\"\u001b[1;36m, line \u001b[1;32m4\u001b[0m\n\u001b[1;33m    for i n range(len(catg_feat)):\u001b[0m\n\u001b[1;37m          ^\u001b[0m\n\u001b[1;31mSyntaxError\u001b[0m\u001b[1;31m:\u001b[0m invalid syntax\n"
     ]
    }
   ],
   "source": [
    "categorical_pipelines = []\n",
    "\n",
    "\n",
    "for i n range(len(catg_feat)): \n",
    "    if col in CATEGORICAL_COLUMNS:\n",
    "        scores = []\n",
    "        # Build the scores array\n",
    "        for j in range(len(COLUMNS[:-1])):\n",
    "            if i == j: \n",
    "                scores.append(1) # Set to 1 to select this column\n",
    "            else: # Every other column should be ignored.\n",
    "                scores.append(0)\n",
    "        skb = SelectKBest(k=1)\n",
    "        skb.scores_ = scores\n",
    "        # Convert the categorical column to a numerical value\n",
    "        lbn = LabelBinarizer()\n",
    "        r = skb.transform(train_features)\n",
    "        lbn.fit(r)\n",
    "        # Create the pipeline to extract the categorical feature\n",
    "        categorical_pipelines.append(\n",
    "            ('categorical-{}'.format(i), Pipeline([\n",
    "                ('SKB-{}'.format(i), skb),\n",
    "                ('LBN-{}'.format(i), lbn)])))\n",
    "\n",
    "# Create pipeline to extract the numerical features\n",
    "skb = SelectKBest(k=6)\n",
    "# From COLUMNS use the features that are numerical\n",
    "skb.scores_ = [1, 0, 1, 0, 1, 0, 0, 0, 0, 0, 1, 1, 1, 0]\n",
    "categorical_pipelines.append(('numerical', skb))"
   ]
  },
  {
   "cell_type": "markdown",
   "metadata": {},
   "source": [
    "Since I am only using categorical features, I will build a preprocessing pipeline to fill missing values with 'missing'\n",
    "and one hot encode category types\n",
    "I will compare logistic regression and a decision tree classifier. "
   ]
  },
  {
   "cell_type": "code",
   "execution_count": 87,
   "metadata": {},
   "outputs": [
    {
     "ename": "IndentationError",
     "evalue": "unexpected indent (<ipython-input-87-c63b68e012b9>, line 14)",
     "output_type": "error",
     "traceback": [
      "\u001b[1;36m  File \u001b[1;32m\"<ipython-input-87-c63b68e012b9>\"\u001b[1;36m, line \u001b[1;32m14\u001b[0m\n\u001b[1;33m    lbn.fit(r)\u001b[0m\n\u001b[1;37m    ^\u001b[0m\n\u001b[1;31mIndentationError\u001b[0m\u001b[1;31m:\u001b[0m unexpected indent\n"
     ]
    }
   ],
   "source": [
    "from sklearn.pipeline import Pipeline\n",
    "from sklearn.impute import SimpleImputer\n",
    "from sklearn.preprocessing import StandardScaler, OneHotEncoder,LabelEncoder\n",
    "from sklearn.compose import ColumnTransformer\n",
    "from sklearn.linear_model import LogisticRegression\n",
    "from sklearn.tree import DecisionTreeClassifier\n",
    "\n",
    "catg_feat = ['marketing_channel','subscribing_channel','age_group']\n",
    "lb = LabelEncoder() \n",
    "  \n",
    "mapping_dict ={} \n",
    "for i in range(len(catg_feat)): \n",
    "    r = skb.transform(train_features)\n",
    "        lbn.fit(r)\n",
    "    print(labelEncoder.transform(X_train[['marketing_channel']]))\n",
    "  \n",
    "    le_name_mapping = dict(zip(labelEncoder.classes_, \n",
    "                        labelEncoder.transform(labelEncoder.classes_))) \n",
    "  \n",
    "    mapping_dict[col]= le_name_mapping \n",
    "print(mapping_dict) \n",
    "\n",
    "# categorical_transformer = Pipeline(steps=[\n",
    "#     ('imputer', SimpleImputer(strategy='constant', fill_value='missing')),\n",
    "#     ('lb', LabelEncoder())])\n",
    "\n",
    "\n",
    "# preprocessor = ColumnTransformer(\n",
    "#     transformers=[\n",
    "#         ('cat', categorical_transformer, categorical_features)])\n",
    "\n",
    "\n",
    "# def make_preds(classifier):\n",
    "#     pipe = Pipeline(steps=[('preprocessor', preprocessor),('classifier', classifier)])\n",
    "#     model=pipe.fit(X_train, y_train)\n",
    "#     print(classifier)\n",
    "#     print(\"model score: \",pipe.score(X_test, y_test))\n",
    "#     y_pred = pipe.predict(X_test)\n",
    "#     return model,y_pred\n",
    "\n",
    "# lg_model,lg_pred=make_preds(LogisticRegression(solver='lbfgs'))\n",
    "# dt_model,dt_pred=make_preds(DecisionTreeClassifier(max_depth=4))"
   ]
  },
  {
   "cell_type": "code",
   "execution_count": 13,
   "metadata": {},
   "outputs": [
    {
     "data": {
      "text/plain": [
       "array(['marketing_channel_Email', 'marketing_channel_Facebook',\n",
       "       'marketing_channel_House Ads', 'marketing_channel_Instagram',\n",
       "       'marketing_channel_Push', 'marketing_channel_missing',\n",
       "       'subscribing_channel_Email', 'subscribing_channel_Facebook',\n",
       "       'subscribing_channel_House Ads', 'subscribing_channel_Instagram',\n",
       "       'subscribing_channel_Push', 'subscribing_channel_missing',\n",
       "       'age_group_0-18 years', 'age_group_19-24 years',\n",
       "       'age_group_24-30 years', 'age_group_30-36 years',\n",
       "       'age_group_36-45 years', 'age_group_45-55 years',\n",
       "       'age_group_55+ years'], dtype=object)"
      ]
     },
     "execution_count": 13,
     "metadata": {},
     "output_type": "execute_result"
    }
   ],
   "source": [
    "feature_names = dt_model.named_steps['preprocessor'].transformers_[0][1]\\\n",
    "    .named_steps['onehot'].get_feature_names(categorical_features)\n",
    "\n",
    "feature_names\n"
   ]
  },
  {
   "cell_type": "code",
   "execution_count": 14,
   "metadata": {},
   "outputs": [
    {
     "name": "stderr",
     "output_type": "stream",
     "text": [
      "C:\\Users\\mikay\\Anaconda3\\lib\\site-packages\\sklearn\\externals\\six.py:31: DeprecationWarning: The module is deprecated in version 0.21 and will be removed in version 0.23 since we've dropped support for Python 2.7. Please rely on the official version of six (https://pypi.org/project/six/).\n",
      "  \"(https://pypi.org/project/six/).\", DeprecationWarning)\n"
     ]
    },
    {
     "data": {
      "image/svg+xml": [
       "<?xml version=\"1.0\" encoding=\"UTF-8\" standalone=\"no\"?>\r\n",
       "<!DOCTYPE svg PUBLIC \"-//W3C//DTD SVG 1.1//EN\"\r\n",
       " \"http://www.w3.org/Graphics/SVG/1.1/DTD/svg11.dtd\">\r\n",
       "<!-- Generated by graphviz version 2.38.0 (20140413.2041)\r\n",
       " -->\r\n",
       "<!-- Title: Tree Pages: 1 -->\r\n",
       "<svg width=\"720pt\" height=\"287pt\"\r\n",
       " viewBox=\"0.00 0.00 720.00 287.33\" xmlns=\"http://www.w3.org/2000/svg\" xmlns:xlink=\"http://www.w3.org/1999/xlink\">\r\n",
       "<g id=\"graph0\" class=\"graph\" transform=\"scale(0.5547 0.5547) rotate(0) translate(4 514)\">\r\n",
       "<title>Tree</title>\r\n",
       "<polygon fill=\"white\" stroke=\"none\" points=\"-4,4 -4,-514 1294,-514 1294,4 -4,4\"/>\r\n",
       "<!-- 0 -->\r\n",
       "<g id=\"node1\" class=\"node\"><title>0</title>\r\n",
       "<path fill=\"#e89051\" stroke=\"black\" d=\"M236,-231.5C236,-231.5 12,-231.5 12,-231.5 6,-231.5 0,-225.5 0,-219.5 0,-219.5 0,-175.5 0,-175.5 0,-169.5 6,-163.5 12,-163.5 12,-163.5 236,-163.5 236,-163.5 242,-163.5 248,-169.5 248,-175.5 248,-175.5 248,-219.5 248,-219.5 248,-225.5 242,-231.5 236,-231.5\"/>\r\n",
       "<text text-anchor=\"middle\" x=\"124\" y=\"-216.3\" font-family=\"Helvetica,sans-Serif\" font-size=\"14.00\">subscribing_channel_missing &lt;= 0.5</text>\r\n",
       "<text text-anchor=\"middle\" x=\"124\" y=\"-201.3\" font-family=\"Helvetica,sans-Serif\" font-size=\"14.00\">samples = 8029</text>\r\n",
       "<text text-anchor=\"middle\" x=\"124\" y=\"-186.3\" font-family=\"Helvetica,sans-Serif\" font-size=\"14.00\">value = [7164, 865]</text>\r\n",
       "<text text-anchor=\"middle\" x=\"124\" y=\"-171.3\" font-family=\"Helvetica,sans-Serif\" font-size=\"14.00\">class = Converted</text>\r\n",
       "</g>\r\n",
       "<!-- 1 -->\r\n",
       "<g id=\"node2\" class=\"node\"><title>1</title>\r\n",
       "<path fill=\"#d3e9f9\" stroke=\"black\" d=\"M530,-288.5C530,-288.5 296,-288.5 296,-288.5 290,-288.5 284,-282.5 284,-276.5 284,-276.5 284,-232.5 284,-232.5 284,-226.5 290,-220.5 296,-220.5 296,-220.5 530,-220.5 530,-220.5 536,-220.5 542,-226.5 542,-232.5 542,-232.5 542,-276.5 542,-276.5 542,-282.5 536,-288.5 530,-288.5\"/>\r\n",
       "<text text-anchor=\"middle\" x=\"413\" y=\"-273.3\" font-family=\"Helvetica,sans-Serif\" font-size=\"14.00\">marketing_channel_House Ads &lt;= 0.5</text>\r\n",
       "<text text-anchor=\"middle\" x=\"413\" y=\"-258.3\" font-family=\"Helvetica,sans-Serif\" font-size=\"14.00\">samples = 1472</text>\r\n",
       "<text text-anchor=\"middle\" x=\"413\" y=\"-243.3\" font-family=\"Helvetica,sans-Serif\" font-size=\"14.00\">value = [645, 827]</text>\r\n",
       "<text text-anchor=\"middle\" x=\"413\" y=\"-228.3\" font-family=\"Helvetica,sans-Serif\" font-size=\"14.00\">class = Not Converted</text>\r\n",
       "</g>\r\n",
       "<!-- 0&#45;&gt;1 -->\r\n",
       "<g id=\"edge1\" class=\"edge\"><title>0&#45;&gt;1</title>\r\n",
       "<path fill=\"none\" stroke=\"black\" d=\"M248.379,-222.004C256.788,-223.674 265.29,-225.362 273.768,-227.046\"/>\r\n",
       "<polygon fill=\"black\" stroke=\"black\" points=\"273.211,-230.504 283.701,-229.019 274.575,-223.638 273.211,-230.504\"/>\r\n",
       "<text text-anchor=\"middle\" x=\"262.919\" y=\"-239.214\" font-family=\"Helvetica,sans-Serif\" font-size=\"14.00\">True</text>\r\n",
       "</g>\r\n",
       "<!-- 12 -->\r\n",
       "<g id=\"node13\" class=\"node\"><title>12</title>\r\n",
       "<path fill=\"#e5823a\" stroke=\"black\" d=\"M519,-174.5C519,-174.5 307,-174.5 307,-174.5 301,-174.5 295,-168.5 295,-162.5 295,-162.5 295,-118.5 295,-118.5 295,-112.5 301,-106.5 307,-106.5 307,-106.5 519,-106.5 519,-106.5 525,-106.5 531,-112.5 531,-118.5 531,-118.5 531,-162.5 531,-162.5 531,-168.5 525,-174.5 519,-174.5\"/>\r\n",
       "<text text-anchor=\"middle\" x=\"413\" y=\"-159.3\" font-family=\"Helvetica,sans-Serif\" font-size=\"14.00\">marketing_channel_missing &lt;= 0.5</text>\r\n",
       "<text text-anchor=\"middle\" x=\"413\" y=\"-144.3\" font-family=\"Helvetica,sans-Serif\" font-size=\"14.00\">samples = 6557</text>\r\n",
       "<text text-anchor=\"middle\" x=\"413\" y=\"-129.3\" font-family=\"Helvetica,sans-Serif\" font-size=\"14.00\">value = [6519, 38]</text>\r\n",
       "<text text-anchor=\"middle\" x=\"413\" y=\"-114.3\" font-family=\"Helvetica,sans-Serif\" font-size=\"14.00\">class = Converted</text>\r\n",
       "</g>\r\n",
       "<!-- 0&#45;&gt;12 -->\r\n",
       "<g id=\"edge12\" class=\"edge\"><title>0&#45;&gt;12</title>\r\n",
       "<path fill=\"none\" stroke=\"black\" d=\"M248.379,-172.996C260.367,-170.615 272.547,-168.196 284.573,-165.808\"/>\r\n",
       "<polygon fill=\"black\" stroke=\"black\" points=\"285.506,-169.191 294.632,-163.81 284.142,-162.325 285.506,-169.191\"/>\r\n",
       "<text text-anchor=\"middle\" x=\"273.85\" y=\"-146.215\" font-family=\"Helvetica,sans-Serif\" font-size=\"14.00\">False</text>\r\n",
       "</g>\r\n",
       "<!-- 2 -->\r\n",
       "<g id=\"node3\" class=\"node\"><title>2</title>\r\n",
       "<path fill=\"#94caf1\" stroke=\"black\" d=\"M835,-403.5C835,-403.5 590,-403.5 590,-403.5 584,-403.5 578,-397.5 578,-391.5 578,-391.5 578,-347.5 578,-347.5 578,-341.5 584,-335.5 590,-335.5 590,-335.5 835,-335.5 835,-335.5 841,-335.5 847,-341.5 847,-347.5 847,-347.5 847,-391.5 847,-391.5 847,-397.5 841,-403.5 835,-403.5\"/>\r\n",
       "<text text-anchor=\"middle\" x=\"712.5\" y=\"-388.3\" font-family=\"Helvetica,sans-Serif\" font-size=\"14.00\">subscribing_channel_House Ads &lt;= 0.5</text>\r\n",
       "<text text-anchor=\"middle\" x=\"712.5\" y=\"-373.3\" font-family=\"Helvetica,sans-Serif\" font-size=\"14.00\">samples = 872</text>\r\n",
       "<text text-anchor=\"middle\" x=\"712.5\" y=\"-358.3\" font-family=\"Helvetica,sans-Serif\" font-size=\"14.00\">value = [274, 598]</text>\r\n",
       "<text text-anchor=\"middle\" x=\"712.5\" y=\"-343.3\" font-family=\"Helvetica,sans-Serif\" font-size=\"14.00\">class = Not Converted</text>\r\n",
       "</g>\r\n",
       "<!-- 1&#45;&gt;2 -->\r\n",
       "<g id=\"edge2\" class=\"edge\"><title>1&#45;&gt;2</title>\r\n",
       "<path fill=\"none\" stroke=\"black\" d=\"M502.052,-288.537C537.205,-302.126 577.817,-317.824 613.868,-331.76\"/>\r\n",
       "<polygon fill=\"black\" stroke=\"black\" points=\"612.827,-335.11 623.417,-335.451 615.351,-328.581 612.827,-335.11\"/>\r\n",
       "</g>\r\n",
       "<!-- 7 -->\r\n",
       "<g id=\"node8\" class=\"node\"><title>7</title>\r\n",
       "<path fill=\"#f5cfb3\" stroke=\"black\" d=\"M835,-288.5C835,-288.5 590,-288.5 590,-288.5 584,-288.5 578,-282.5 578,-276.5 578,-276.5 578,-232.5 578,-232.5 578,-226.5 584,-220.5 590,-220.5 590,-220.5 835,-220.5 835,-220.5 841,-220.5 847,-226.5 847,-232.5 847,-232.5 847,-276.5 847,-276.5 847,-282.5 841,-288.5 835,-288.5\"/>\r\n",
       "<text text-anchor=\"middle\" x=\"712.5\" y=\"-273.3\" font-family=\"Helvetica,sans-Serif\" font-size=\"14.00\">subscribing_channel_House Ads &lt;= 0.5</text>\r\n",
       "<text text-anchor=\"middle\" x=\"712.5\" y=\"-258.3\" font-family=\"Helvetica,sans-Serif\" font-size=\"14.00\">samples = 600</text>\r\n",
       "<text text-anchor=\"middle\" x=\"712.5\" y=\"-243.3\" font-family=\"Helvetica,sans-Serif\" font-size=\"14.00\">value = [371, 229]</text>\r\n",
       "<text text-anchor=\"middle\" x=\"712.5\" y=\"-228.3\" font-family=\"Helvetica,sans-Serif\" font-size=\"14.00\">class = Converted</text>\r\n",
       "</g>\r\n",
       "<!-- 1&#45;&gt;7 -->\r\n",
       "<g id=\"edge7\" class=\"edge\"><title>1&#45;&gt;7</title>\r\n",
       "<path fill=\"none\" stroke=\"black\" d=\"M542.325,-254.5C550.803,-254.5 559.37,-254.5 567.915,-254.5\"/>\r\n",
       "<polygon fill=\"black\" stroke=\"black\" points=\"567.929,-258 577.929,-254.5 567.929,-251 567.929,-258\"/>\r\n",
       "</g>\r\n",
       "<!-- 3 -->\r\n",
       "<g id=\"node4\" class=\"node\"><title>3</title>\r\n",
       "<path fill=\"#8fc7f0\" stroke=\"black\" d=\"M1085,-482.5C1085,-482.5 895,-482.5 895,-482.5 889,-482.5 883,-476.5 883,-470.5 883,-470.5 883,-426.5 883,-426.5 883,-420.5 889,-414.5 895,-414.5 895,-414.5 1085,-414.5 1085,-414.5 1091,-414.5 1097,-420.5 1097,-426.5 1097,-426.5 1097,-470.5 1097,-470.5 1097,-476.5 1091,-482.5 1085,-482.5\"/>\r\n",
       "<text text-anchor=\"middle\" x=\"990\" y=\"-467.3\" font-family=\"Helvetica,sans-Serif\" font-size=\"14.00\">age_group_19&#45;24 years &lt;= 0.5</text>\r\n",
       "<text text-anchor=\"middle\" x=\"990\" y=\"-452.3\" font-family=\"Helvetica,sans-Serif\" font-size=\"14.00\">samples = 857</text>\r\n",
       "<text text-anchor=\"middle\" x=\"990\" y=\"-437.3\" font-family=\"Helvetica,sans-Serif\" font-size=\"14.00\">value = [259, 598]</text>\r\n",
       "<text text-anchor=\"middle\" x=\"990\" y=\"-422.3\" font-family=\"Helvetica,sans-Serif\" font-size=\"14.00\">class = Not Converted</text>\r\n",
       "</g>\r\n",
       "<!-- 2&#45;&gt;3 -->\r\n",
       "<g id=\"edge3\" class=\"edge\"><title>2&#45;&gt;3</title>\r\n",
       "<path fill=\"none\" stroke=\"black\" d=\"M832.336,-403.576C845.812,-407.441 859.535,-411.376 872.975,-415.23\"/>\r\n",
       "<polygon fill=\"black\" stroke=\"black\" points=\"872.127,-418.627 882.704,-418.019 874.056,-411.899 872.127,-418.627\"/>\r\n",
       "</g>\r\n",
       "<!-- 6 -->\r\n",
       "<g id=\"node7\" class=\"node\"><title>6</title>\r\n",
       "<path fill=\"#e58139\" stroke=\"black\" d=\"M1043.5,-396C1043.5,-396 936.5,-396 936.5,-396 930.5,-396 924.5,-390 924.5,-384 924.5,-384 924.5,-355 924.5,-355 924.5,-349 930.5,-343 936.5,-343 936.5,-343 1043.5,-343 1043.5,-343 1049.5,-343 1055.5,-349 1055.5,-355 1055.5,-355 1055.5,-384 1055.5,-384 1055.5,-390 1049.5,-396 1043.5,-396\"/>\r\n",
       "<text text-anchor=\"middle\" x=\"990\" y=\"-380.8\" font-family=\"Helvetica,sans-Serif\" font-size=\"14.00\">samples = 15</text>\r\n",
       "<text text-anchor=\"middle\" x=\"990\" y=\"-365.8\" font-family=\"Helvetica,sans-Serif\" font-size=\"14.00\">value = [15, 0]</text>\r\n",
       "<text text-anchor=\"middle\" x=\"990\" y=\"-350.8\" font-family=\"Helvetica,sans-Serif\" font-size=\"14.00\">class = Converted</text>\r\n",
       "</g>\r\n",
       "<!-- 2&#45;&gt;6 -->\r\n",
       "<g id=\"edge6\" class=\"edge\"><title>2&#45;&gt;6</title>\r\n",
       "<path fill=\"none\" stroke=\"black\" d=\"M847.215,-369.5C870.307,-369.5 893.551,-369.5 914.347,-369.5\"/>\r\n",
       "<polygon fill=\"black\" stroke=\"black\" points=\"914.348,-373 924.348,-369.5 914.348,-366 914.348,-373\"/>\r\n",
       "</g>\r\n",
       "<!-- 4 -->\r\n",
       "<g id=\"node5\" class=\"node\"><title>4</title>\r\n",
       "<path fill=\"#a6d3f3\" stroke=\"black\" d=\"M1278,-510C1278,-510 1145,-510 1145,-510 1139,-510 1133,-504 1133,-498 1133,-498 1133,-469 1133,-469 1133,-463 1139,-457 1145,-457 1145,-457 1278,-457 1278,-457 1284,-457 1290,-463 1290,-469 1290,-469 1290,-498 1290,-498 1290,-504 1284,-510 1278,-510\"/>\r\n",
       "<text text-anchor=\"middle\" x=\"1211.5\" y=\"-494.8\" font-family=\"Helvetica,sans-Serif\" font-size=\"14.00\">samples = 620</text>\r\n",
       "<text text-anchor=\"middle\" x=\"1211.5\" y=\"-479.8\" font-family=\"Helvetica,sans-Serif\" font-size=\"14.00\">value = [220, 400]</text>\r\n",
       "<text text-anchor=\"middle\" x=\"1211.5\" y=\"-464.8\" font-family=\"Helvetica,sans-Serif\" font-size=\"14.00\">class = Not Converted</text>\r\n",
       "</g>\r\n",
       "<!-- 3&#45;&gt;4 -->\r\n",
       "<g id=\"edge4\" class=\"edge\"><title>3&#45;&gt;4</title>\r\n",
       "<path fill=\"none\" stroke=\"black\" d=\"M1097.21,-465.436C1105.77,-466.801 1114.36,-468.17 1122.76,-469.51\"/>\r\n",
       "<polygon fill=\"black\" stroke=\"black\" points=\"1122.49,-473.011 1132.92,-471.129 1123.59,-466.098 1122.49,-473.011\"/>\r\n",
       "</g>\r\n",
       "<!-- 5 -->\r\n",
       "<g id=\"node6\" class=\"node\"><title>5</title>\r\n",
       "<path fill=\"#60b0ea\" stroke=\"black\" d=\"M1278,-439C1278,-439 1145,-439 1145,-439 1139,-439 1133,-433 1133,-427 1133,-427 1133,-398 1133,-398 1133,-392 1139,-386 1145,-386 1145,-386 1278,-386 1278,-386 1284,-386 1290,-392 1290,-398 1290,-398 1290,-427 1290,-427 1290,-433 1284,-439 1278,-439\"/>\r\n",
       "<text text-anchor=\"middle\" x=\"1211.5\" y=\"-423.8\" font-family=\"Helvetica,sans-Serif\" font-size=\"14.00\">samples = 237</text>\r\n",
       "<text text-anchor=\"middle\" x=\"1211.5\" y=\"-408.8\" font-family=\"Helvetica,sans-Serif\" font-size=\"14.00\">value = [39, 198]</text>\r\n",
       "<text text-anchor=\"middle\" x=\"1211.5\" y=\"-393.8\" font-family=\"Helvetica,sans-Serif\" font-size=\"14.00\">class = Not Converted</text>\r\n",
       "</g>\r\n",
       "<!-- 3&#45;&gt;5 -->\r\n",
       "<g id=\"edge5\" class=\"edge\"><title>3&#45;&gt;5</title>\r\n",
       "<path fill=\"none\" stroke=\"black\" d=\"M1097.21,-431.08C1105.87,-429.661 1114.55,-428.237 1123.04,-426.844\"/>\r\n",
       "<polygon fill=\"black\" stroke=\"black\" points=\"1123.61,-430.297 1132.92,-425.225 1122.48,-423.389 1123.61,-430.297\"/>\r\n",
       "</g>\r\n",
       "<!-- 8 -->\r\n",
       "<g id=\"node9\" class=\"node\"><title>8</title>\r\n",
       "<path fill=\"#e58139\" stroke=\"black\" d=\"M1043.5,-325C1043.5,-325 936.5,-325 936.5,-325 930.5,-325 924.5,-319 924.5,-313 924.5,-313 924.5,-284 924.5,-284 924.5,-278 930.5,-272 936.5,-272 936.5,-272 1043.5,-272 1043.5,-272 1049.5,-272 1055.5,-278 1055.5,-284 1055.5,-284 1055.5,-313 1055.5,-313 1055.5,-319 1049.5,-325 1043.5,-325\"/>\r\n",
       "<text text-anchor=\"middle\" x=\"990\" y=\"-309.8\" font-family=\"Helvetica,sans-Serif\" font-size=\"14.00\">samples = 339</text>\r\n",
       "<text text-anchor=\"middle\" x=\"990\" y=\"-294.8\" font-family=\"Helvetica,sans-Serif\" font-size=\"14.00\">value = [339, 0]</text>\r\n",
       "<text text-anchor=\"middle\" x=\"990\" y=\"-279.8\" font-family=\"Helvetica,sans-Serif\" font-size=\"14.00\">class = Converted</text>\r\n",
       "</g>\r\n",
       "<!-- 7&#45;&gt;8 -->\r\n",
       "<g id=\"edge8\" class=\"edge\"><title>7&#45;&gt;8</title>\r\n",
       "<path fill=\"none\" stroke=\"black\" d=\"M847.215,-275.856C870.307,-279.544 893.551,-283.256 914.347,-286.577\"/>\r\n",
       "<polygon fill=\"black\" stroke=\"black\" points=\"913.921,-290.053 924.348,-288.174 915.025,-283.141 913.921,-290.053\"/>\r\n",
       "</g>\r\n",
       "<!-- 9 -->\r\n",
       "<g id=\"node10\" class=\"node\"><title>9</title>\r\n",
       "<path fill=\"#55abe9\" stroke=\"black\" d=\"M1085,-253.5C1085,-253.5 895,-253.5 895,-253.5 889,-253.5 883,-247.5 883,-241.5 883,-241.5 883,-197.5 883,-197.5 883,-191.5 889,-185.5 895,-185.5 895,-185.5 1085,-185.5 1085,-185.5 1091,-185.5 1097,-191.5 1097,-197.5 1097,-197.5 1097,-241.5 1097,-241.5 1097,-247.5 1091,-253.5 1085,-253.5\"/>\r\n",
       "<text text-anchor=\"middle\" x=\"990\" y=\"-238.3\" font-family=\"Helvetica,sans-Serif\" font-size=\"14.00\">age_group_30&#45;36 years &lt;= 0.5</text>\r\n",
       "<text text-anchor=\"middle\" x=\"990\" y=\"-223.3\" font-family=\"Helvetica,sans-Serif\" font-size=\"14.00\">samples = 261</text>\r\n",
       "<text text-anchor=\"middle\" x=\"990\" y=\"-208.3\" font-family=\"Helvetica,sans-Serif\" font-size=\"14.00\">value = [32, 229]</text>\r\n",
       "<text text-anchor=\"middle\" x=\"990\" y=\"-193.3\" font-family=\"Helvetica,sans-Serif\" font-size=\"14.00\">class = Not Converted</text>\r\n",
       "</g>\r\n",
       "<!-- 7&#45;&gt;9 -->\r\n",
       "<g id=\"edge9\" class=\"edge\"><title>7&#45;&gt;9</title>\r\n",
       "<path fill=\"none\" stroke=\"black\" d=\"M847.215,-237.513C855.695,-236.435 864.195,-235.356 872.586,-234.289\"/>\r\n",
       "<polygon fill=\"black\" stroke=\"black\" points=\"873.281,-237.729 882.76,-232.997 872.399,-230.785 873.281,-237.729\"/>\r\n",
       "</g>\r\n",
       "<!-- 10 -->\r\n",
       "<g id=\"node11\" class=\"node\"><title>10</title>\r\n",
       "<path fill=\"#57ace9\" stroke=\"black\" d=\"M1278,-292C1278,-292 1145,-292 1145,-292 1139,-292 1133,-286 1133,-280 1133,-280 1133,-251 1133,-251 1133,-245 1139,-239 1145,-239 1145,-239 1278,-239 1278,-239 1284,-239 1290,-245 1290,-251 1290,-251 1290,-280 1290,-280 1290,-286 1284,-292 1278,-292\"/>\r\n",
       "<text text-anchor=\"middle\" x=\"1211.5\" y=\"-276.8\" font-family=\"Helvetica,sans-Serif\" font-size=\"14.00\">samples = 231</text>\r\n",
       "<text text-anchor=\"middle\" x=\"1211.5\" y=\"-261.8\" font-family=\"Helvetica,sans-Serif\" font-size=\"14.00\">value = [30, 201]</text>\r\n",
       "<text text-anchor=\"middle\" x=\"1211.5\" y=\"-246.8\" font-family=\"Helvetica,sans-Serif\" font-size=\"14.00\">class = Not Converted</text>\r\n",
       "</g>\r\n",
       "<!-- 9&#45;&gt;10 -->\r\n",
       "<g id=\"edge10\" class=\"edge\"><title>9&#45;&gt;10</title>\r\n",
       "<path fill=\"none\" stroke=\"black\" d=\"M1097.21,-241.759C1105.87,-243.572 1114.55,-245.391 1123.04,-247.172\"/>\r\n",
       "<polygon fill=\"black\" stroke=\"black\" points=\"1122.41,-250.615 1132.92,-249.241 1123.85,-243.764 1122.41,-250.615\"/>\r\n",
       "</g>\r\n",
       "<!-- 11 -->\r\n",
       "<g id=\"node12\" class=\"node\"><title>11</title>\r\n",
       "<path fill=\"#47a4e7\" stroke=\"black\" d=\"M1278,-221C1278,-221 1145,-221 1145,-221 1139,-221 1133,-215 1133,-209 1133,-209 1133,-180 1133,-180 1133,-174 1139,-168 1145,-168 1145,-168 1278,-168 1278,-168 1284,-168 1290,-174 1290,-180 1290,-180 1290,-209 1290,-209 1290,-215 1284,-221 1278,-221\"/>\r\n",
       "<text text-anchor=\"middle\" x=\"1211.5\" y=\"-205.8\" font-family=\"Helvetica,sans-Serif\" font-size=\"14.00\">samples = 30</text>\r\n",
       "<text text-anchor=\"middle\" x=\"1211.5\" y=\"-190.8\" font-family=\"Helvetica,sans-Serif\" font-size=\"14.00\">value = [2, 28]</text>\r\n",
       "<text text-anchor=\"middle\" x=\"1211.5\" y=\"-175.8\" font-family=\"Helvetica,sans-Serif\" font-size=\"14.00\">class = Not Converted</text>\r\n",
       "</g>\r\n",
       "<!-- 9&#45;&gt;11 -->\r\n",
       "<g id=\"edge11\" class=\"edge\"><title>9&#45;&gt;11</title>\r\n",
       "<path fill=\"none\" stroke=\"black\" d=\"M1097.21,-207.403C1105.77,-206.428 1114.36,-205.45 1122.76,-204.493\"/>\r\n",
       "<polygon fill=\"black\" stroke=\"black\" points=\"1123.38,-207.946 1132.92,-203.336 1122.58,-200.991 1123.38,-207.946\"/>\r\n",
       "</g>\r\n",
       "<!-- 13 -->\r\n",
       "<g id=\"node14\" class=\"node\"><title>13</title>\r\n",
       "<path fill=\"#e5813a\" stroke=\"black\" d=\"M812,-174.5C812,-174.5 613,-174.5 613,-174.5 607,-174.5 601,-168.5 601,-162.5 601,-162.5 601,-118.5 601,-118.5 601,-112.5 607,-106.5 613,-106.5 613,-106.5 812,-106.5 812,-106.5 818,-106.5 824,-112.5 824,-118.5 824,-118.5 824,-162.5 824,-162.5 824,-168.5 818,-174.5 812,-174.5\"/>\r\n",
       "<text text-anchor=\"middle\" x=\"712.5\" y=\"-159.3\" font-family=\"Helvetica,sans-Serif\" font-size=\"14.00\">marketing_channel_Email &lt;= 0.5</text>\r\n",
       "<text text-anchor=\"middle\" x=\"712.5\" y=\"-144.3\" font-family=\"Helvetica,sans-Serif\" font-size=\"14.00\">samples = 6543</text>\r\n",
       "<text text-anchor=\"middle\" x=\"712.5\" y=\"-129.3\" font-family=\"Helvetica,sans-Serif\" font-size=\"14.00\">value = [6519, 24]</text>\r\n",
       "<text text-anchor=\"middle\" x=\"712.5\" y=\"-114.3\" font-family=\"Helvetica,sans-Serif\" font-size=\"14.00\">class = Converted</text>\r\n",
       "</g>\r\n",
       "<!-- 12&#45;&gt;13 -->\r\n",
       "<g id=\"edge13\" class=\"edge\"><title>12&#45;&gt;13</title>\r\n",
       "<path fill=\"none\" stroke=\"black\" d=\"M531.153,-140.5C550.676,-140.5 570.961,-140.5 590.577,-140.5\"/>\r\n",
       "<polygon fill=\"black\" stroke=\"black\" points=\"590.766,-144 600.766,-140.5 590.766,-137 590.766,-144\"/>\r\n",
       "</g>\r\n",
       "<!-- 18 -->\r\n",
       "<g id=\"node19\" class=\"node\"><title>18</title>\r\n",
       "<path fill=\"#399de5\" stroke=\"black\" d=\"M779,-88C779,-88 646,-88 646,-88 640,-88 634,-82 634,-76 634,-76 634,-47 634,-47 634,-41 640,-35 646,-35 646,-35 779,-35 779,-35 785,-35 791,-41 791,-47 791,-47 791,-76 791,-76 791,-82 785,-88 779,-88\"/>\r\n",
       "<text text-anchor=\"middle\" x=\"712.5\" y=\"-72.8\" font-family=\"Helvetica,sans-Serif\" font-size=\"14.00\">samples = 14</text>\r\n",
       "<text text-anchor=\"middle\" x=\"712.5\" y=\"-57.8\" font-family=\"Helvetica,sans-Serif\" font-size=\"14.00\">value = [0, 14]</text>\r\n",
       "<text text-anchor=\"middle\" x=\"712.5\" y=\"-42.8\" font-family=\"Helvetica,sans-Serif\" font-size=\"14.00\">class = Not Converted</text>\r\n",
       "</g>\r\n",
       "<!-- 12&#45;&gt;18 -->\r\n",
       "<g id=\"edge18\" class=\"edge\"><title>12&#45;&gt;18</title>\r\n",
       "<path fill=\"none\" stroke=\"black\" d=\"M531.153,-109.391C562.123,-101.166 595.01,-92.4336 624.1,-84.7087\"/>\r\n",
       "<polygon fill=\"black\" stroke=\"black\" points=\"625.045,-88.0791 633.812,-82.1298 623.249,-81.3136 625.045,-88.0791\"/>\r\n",
       "</g>\r\n",
       "<!-- 14 -->\r\n",
       "<g id=\"node15\" class=\"node\"><title>14</title>\r\n",
       "<path fill=\"#e58139\" stroke=\"black\" d=\"M1043.5,-167C1043.5,-167 936.5,-167 936.5,-167 930.5,-167 924.5,-161 924.5,-155 924.5,-155 924.5,-126 924.5,-126 924.5,-120 930.5,-114 936.5,-114 936.5,-114 1043.5,-114 1043.5,-114 1049.5,-114 1055.5,-120 1055.5,-126 1055.5,-126 1055.5,-155 1055.5,-155 1055.5,-161 1049.5,-167 1043.5,-167\"/>\r\n",
       "<text text-anchor=\"middle\" x=\"990\" y=\"-151.8\" font-family=\"Helvetica,sans-Serif\" font-size=\"14.00\">samples = 6251</text>\r\n",
       "<text text-anchor=\"middle\" x=\"990\" y=\"-136.8\" font-family=\"Helvetica,sans-Serif\" font-size=\"14.00\">value = [6251, 0]</text>\r\n",
       "<text text-anchor=\"middle\" x=\"990\" y=\"-121.8\" font-family=\"Helvetica,sans-Serif\" font-size=\"14.00\">class = Converted</text>\r\n",
       "</g>\r\n",
       "<!-- 13&#45;&gt;14 -->\r\n",
       "<g id=\"edge14\" class=\"edge\"><title>13&#45;&gt;14</title>\r\n",
       "<path fill=\"none\" stroke=\"black\" d=\"M824.366,-140.5C854.462,-140.5 886.339,-140.5 913.946,-140.5\"/>\r\n",
       "<polygon fill=\"black\" stroke=\"black\" points=\"914.305,-144 924.305,-140.5 914.305,-137 914.305,-144\"/>\r\n",
       "</g>\r\n",
       "<!-- 15 -->\r\n",
       "<g id=\"node16\" class=\"node\"><title>15</title>\r\n",
       "<path fill=\"#e78c4b\" stroke=\"black\" d=\"M1085,-95.5C1085,-95.5 895,-95.5 895,-95.5 889,-95.5 883,-89.5 883,-83.5 883,-83.5 883,-39.5 883,-39.5 883,-33.5 889,-27.5 895,-27.5 895,-27.5 1085,-27.5 1085,-27.5 1091,-27.5 1097,-33.5 1097,-39.5 1097,-39.5 1097,-83.5 1097,-83.5 1097,-89.5 1091,-95.5 1085,-95.5\"/>\r\n",
       "<text text-anchor=\"middle\" x=\"990\" y=\"-80.3\" font-family=\"Helvetica,sans-Serif\" font-size=\"14.00\">age_group_24&#45;30 years &lt;= 0.5</text>\r\n",
       "<text text-anchor=\"middle\" x=\"990\" y=\"-65.3\" font-family=\"Helvetica,sans-Serif\" font-size=\"14.00\">samples = 292</text>\r\n",
       "<text text-anchor=\"middle\" x=\"990\" y=\"-50.3\" font-family=\"Helvetica,sans-Serif\" font-size=\"14.00\">value = [268, 24]</text>\r\n",
       "<text text-anchor=\"middle\" x=\"990\" y=\"-35.3\" font-family=\"Helvetica,sans-Serif\" font-size=\"14.00\">class = Converted</text>\r\n",
       "</g>\r\n",
       "<!-- 13&#45;&gt;15 -->\r\n",
       "<g id=\"edge15\" class=\"edge\"><title>13&#45;&gt;15</title>\r\n",
       "<path fill=\"none\" stroke=\"black\" d=\"M824.366,-108.709C840.338,-104.129 856.813,-99.4048 872.885,-94.7962\"/>\r\n",
       "<polygon fill=\"black\" stroke=\"black\" points=\"874.184,-98.0648 882.832,-91.9439 872.254,-91.336 874.184,-98.0648\"/>\r\n",
       "</g>\r\n",
       "<!-- 16 -->\r\n",
       "<g id=\"node17\" class=\"node\"><title>16</title>\r\n",
       "<path fill=\"#e88e4e\" stroke=\"black\" d=\"M1265,-124C1265,-124 1158,-124 1158,-124 1152,-124 1146,-118 1146,-112 1146,-112 1146,-83 1146,-83 1146,-77 1152,-71 1158,-71 1158,-71 1265,-71 1265,-71 1271,-71 1277,-77 1277,-83 1277,-83 1277,-112 1277,-112 1277,-118 1271,-124 1265,-124\"/>\r\n",
       "<text text-anchor=\"middle\" x=\"1211.5\" y=\"-108.8\" font-family=\"Helvetica,sans-Serif\" font-size=\"14.00\">samples = 249</text>\r\n",
       "<text text-anchor=\"middle\" x=\"1211.5\" y=\"-93.8\" font-family=\"Helvetica,sans-Serif\" font-size=\"14.00\">value = [225, 24]</text>\r\n",
       "<text text-anchor=\"middle\" x=\"1211.5\" y=\"-78.8\" font-family=\"Helvetica,sans-Serif\" font-size=\"14.00\">class = Converted</text>\r\n",
       "</g>\r\n",
       "<!-- 15&#45;&gt;16 -->\r\n",
       "<g id=\"edge16\" class=\"edge\"><title>15&#45;&gt;16</title>\r\n",
       "<path fill=\"none\" stroke=\"black\" d=\"M1097.21,-78.92C1110.34,-81.0726 1123.53,-83.2362 1136.04,-85.2876\"/>\r\n",
       "<polygon fill=\"black\" stroke=\"black\" points=\"1135.47,-88.7417 1145.91,-86.9064 1136.61,-81.834 1135.47,-88.7417\"/>\r\n",
       "</g>\r\n",
       "<!-- 17 -->\r\n",
       "<g id=\"node18\" class=\"node\"><title>17</title>\r\n",
       "<path fill=\"#e58139\" stroke=\"black\" d=\"M1265,-53C1265,-53 1158,-53 1158,-53 1152,-53 1146,-47 1146,-41 1146,-41 1146,-12 1146,-12 1146,-6 1152,-0 1158,-0 1158,-0 1265,-0 1265,-0 1271,-0 1277,-6 1277,-12 1277,-12 1277,-41 1277,-41 1277,-47 1271,-53 1265,-53\"/>\r\n",
       "<text text-anchor=\"middle\" x=\"1211.5\" y=\"-37.8\" font-family=\"Helvetica,sans-Serif\" font-size=\"14.00\">samples = 43</text>\r\n",
       "<text text-anchor=\"middle\" x=\"1211.5\" y=\"-22.8\" font-family=\"Helvetica,sans-Serif\" font-size=\"14.00\">value = [43, 0]</text>\r\n",
       "<text text-anchor=\"middle\" x=\"1211.5\" y=\"-7.8\" font-family=\"Helvetica,sans-Serif\" font-size=\"14.00\">class = Converted</text>\r\n",
       "</g>\r\n",
       "<!-- 15&#45;&gt;17 -->\r\n",
       "<g id=\"edge17\" class=\"edge\"><title>15&#45;&gt;17</title>\r\n",
       "<path fill=\"none\" stroke=\"black\" d=\"M1097.21,-44.5639C1110.21,-42.4918 1123.27,-40.4092 1135.67,-38.4324\"/>\r\n",
       "<polygon fill=\"black\" stroke=\"black\" points=\"1136.58,-41.8304 1145.91,-36.7993 1135.48,-34.9177 1136.58,-41.8304\"/>\r\n",
       "</g>\r\n",
       "</g>\r\n",
       "</svg>\r\n"
      ],
      "text/plain": [
       "<graphviz.files.Source at 0x1af52bf92b0>"
      ]
     },
     "execution_count": 14,
     "metadata": {},
     "output_type": "execute_result"
    }
   ],
   "source": [
    "from sklearn.externals.six import StringIO  \n",
    "from IPython.display import Image  \n",
    "from sklearn.tree import export_graphviz\n",
    "import graphviz\n",
    "import pydotplus\n",
    "import os\n",
    "os.environ[\"PATH\"] += os.pathsep + r'C:\\Users\\mikay\\Anaconda3\\pkgs\\graphviz-2.38-hfd603c8_2\\Library\\bin\\graphviz'\n",
    "\n",
    "\n",
    "dot_data = export_graphviz(dt_model['classifier'], out_file=None, feature_names = feature_names,\n",
    "                class_names = ['Converted','Not Converted'],\n",
    "                rounded = True, proportion = False, precision = 1, rotate=True,impurity=False,filled=True)\n",
    "\n",
    "pdot = pydotplus.graph_from_dot_data(dot_data)\n",
    "pdot.set_graph_defaults(size = \"\\\"10,7\\\"\",fontsize='14')\n",
    "graph = graphviz.Source(pdot.to_string())\n",
    "graph\n"
   ]
  },
  {
   "cell_type": "code",
   "execution_count": 15,
   "metadata": {},
   "outputs": [
    {
     "data": {
      "application/vnd.jupyter.widget-view+json": {
       "model_id": "af044d258cdd4afc995f68d47177c845",
       "version_major": 2,
       "version_minor": 0
      },
      "text/plain": [
       "interactive(children=(Dropdown(description='crit', options=('gini', 'entropy'), value='gini'), Dropdown(descri…"
      ]
     },
     "metadata": {},
     "output_type": "display_data"
    }
   ],
   "source": [
    "from IPython.display import SVG\n",
    "from graphviz import Source\n",
    "from IPython.display import display                               \n",
    "from ipywidgets import interactive\n",
    "\n",
    "def plot_tree(crit, split, depth, min_split, min_leaf):\n",
    "    classifier = DecisionTreeClassifier(random_state = 0 \n",
    "      , criterion = crit\n",
    "      , splitter = split\n",
    "      , max_depth = depth\n",
    "      , min_samples_split=min_split\n",
    "      , min_samples_leaf=min_leaf)\n",
    "\n",
    "    pipe = Pipeline(steps=[('preprocessor', preprocessor),('classifier', classifier)])\n",
    "    model=pipe.fit(X_train, y_train)\n",
    "    \n",
    "    feature_names = dt_model.named_steps['preprocessor'].transformers_[0][1]\\\n",
    "        .named_steps['onehot'].get_feature_names(categorical_features)\n",
    "    \n",
    "    graph = Source(export_graphviz(model['classifier']\n",
    "      , out_file=None\n",
    "      , feature_names=feature_names\n",
    "      , class_names=['Converted','Not Converted']\n",
    "      , filled = True))\n",
    "   \n",
    "    display(SVG(graph.pipe(format='svg')))\n",
    "    return model['classifier']\n",
    "\n",
    "inter=interactive(plot_tree \n",
    "   , crit = [\"gini\", \"entropy\"]\n",
    "   , split = [\"best\", \"random\"]\n",
    "   , depth=[3,4]\n",
    "   , min_split=(0.1,1)\n",
    "   , min_leaf=(1,2))\n",
    "\n",
    "\n",
    "display(inter)"
   ]
  },
  {
   "cell_type": "markdown",
   "metadata": {},
   "source": [
    "##### Returns dataframe with one colume for y_test (actual) and one column for y_pred (predicted value)"
   ]
  },
  {
   "cell_type": "code",
   "execution_count": 16,
   "metadata": {},
   "outputs": [
    {
     "data": {
      "text/html": [
       "<div>\n",
       "<style scoped>\n",
       "    .dataframe tbody tr th:only-of-type {\n",
       "        vertical-align: middle;\n",
       "    }\n",
       "\n",
       "    .dataframe tbody tr th {\n",
       "        vertical-align: top;\n",
       "    }\n",
       "\n",
       "    .dataframe thead th {\n",
       "        text-align: right;\n",
       "    }\n",
       "</style>\n",
       "<table border=\"1\" class=\"dataframe\">\n",
       "  <thead>\n",
       "    <tr style=\"text-align: right;\">\n",
       "      <th></th>\n",
       "      <th>marketing_channel</th>\n",
       "      <th>subscribing_channel</th>\n",
       "      <th>age_group</th>\n",
       "      <th>y_pred</th>\n",
       "      <th>y_actual</th>\n",
       "    </tr>\n",
       "  </thead>\n",
       "  <tbody>\n",
       "    <tr>\n",
       "      <th>885</th>\n",
       "      <td>House Ads</td>\n",
       "      <td>Instagram</td>\n",
       "      <td>45-55 years</td>\n",
       "      <td>False</td>\n",
       "      <td>False</td>\n",
       "    </tr>\n",
       "    <tr>\n",
       "      <th>2288</th>\n",
       "      <td>Instagram</td>\n",
       "      <td>NaN</td>\n",
       "      <td>36-45 years</td>\n",
       "      <td>False</td>\n",
       "      <td>False</td>\n",
       "    </tr>\n",
       "    <tr>\n",
       "      <th>9684</th>\n",
       "      <td>House Ads</td>\n",
       "      <td>NaN</td>\n",
       "      <td>36-45 years</td>\n",
       "      <td>False</td>\n",
       "      <td>False</td>\n",
       "    </tr>\n",
       "    <tr>\n",
       "      <th>7444</th>\n",
       "      <td>House Ads</td>\n",
       "      <td>NaN</td>\n",
       "      <td>19-24 years</td>\n",
       "      <td>False</td>\n",
       "      <td>False</td>\n",
       "    </tr>\n",
       "    <tr>\n",
       "      <th>4780</th>\n",
       "      <td>House Ads</td>\n",
       "      <td>NaN</td>\n",
       "      <td>24-30 years</td>\n",
       "      <td>False</td>\n",
       "      <td>False</td>\n",
       "    </tr>\n",
       "  </tbody>\n",
       "</table>\n",
       "</div>"
      ],
      "text/plain": [
       "     marketing_channel subscribing_channel    age_group  y_pred  y_actual\n",
       "885          House Ads           Instagram  45-55 years   False     False\n",
       "2288         Instagram                 NaN  36-45 years   False     False\n",
       "9684         House Ads                 NaN  36-45 years   False     False\n",
       "7444         House Ads                 NaN  19-24 years   False     False\n",
       "4780         House Ads                 NaN  24-30 years   False     False"
      ]
     },
     "execution_count": 16,
     "metadata": {},
     "output_type": "execute_result"
    }
   ],
   "source": [
    "def get_preds_df(y_pred):\n",
    "    y_test.rename('y_actual',inplace=True)\n",
    "    preds_df = pd.DataFrame(data = y_pred, columns = ['y_pred'], index = X_test.index.copy())\n",
    "    return X_test.merge(preds_df,how='inner',left_index = True, right_index = True).merge(y_test,left_index = True, right_index = True)\n",
    "\n",
    "dt_preds_df=get_preds_df(dt_pred)\n",
    "dt_preds_df.head()"
   ]
  },
  {
   "cell_type": "code",
   "execution_count": 17,
   "metadata": {},
   "outputs": [
    {
     "data": {
      "text/html": [
       "<div>\n",
       "<style scoped>\n",
       "    .dataframe tbody tr th:only-of-type {\n",
       "        vertical-align: middle;\n",
       "    }\n",
       "\n",
       "    .dataframe tbody tr th {\n",
       "        vertical-align: top;\n",
       "    }\n",
       "\n",
       "    .dataframe thead th {\n",
       "        text-align: right;\n",
       "    }\n",
       "</style>\n",
       "<table border=\"1\" class=\"dataframe\">\n",
       "  <thead>\n",
       "    <tr style=\"text-align: right;\">\n",
       "      <th></th>\n",
       "      <th>marketing_channel</th>\n",
       "      <th>subscribing_channel</th>\n",
       "      <th>age_group</th>\n",
       "      <th>y_pred</th>\n",
       "      <th>y_actual</th>\n",
       "    </tr>\n",
       "  </thead>\n",
       "  <tbody>\n",
       "    <tr>\n",
       "      <th>1070</th>\n",
       "      <td>Facebook</td>\n",
       "      <td>Facebook</td>\n",
       "      <td>36-45 years</td>\n",
       "      <td>True</td>\n",
       "      <td>False</td>\n",
       "    </tr>\n",
       "    <tr>\n",
       "      <th>1510</th>\n",
       "      <td>Push</td>\n",
       "      <td>Facebook</td>\n",
       "      <td>36-45 years</td>\n",
       "      <td>True</td>\n",
       "      <td>False</td>\n",
       "    </tr>\n",
       "    <tr>\n",
       "      <th>1294</th>\n",
       "      <td>Facebook</td>\n",
       "      <td>Instagram</td>\n",
       "      <td>36-45 years</td>\n",
       "      <td>True</td>\n",
       "      <td>False</td>\n",
       "    </tr>\n",
       "    <tr>\n",
       "      <th>920</th>\n",
       "      <td>Instagram</td>\n",
       "      <td>Instagram</td>\n",
       "      <td>24-30 years</td>\n",
       "      <td>True</td>\n",
       "      <td>False</td>\n",
       "    </tr>\n",
       "    <tr>\n",
       "      <th>783</th>\n",
       "      <td>Facebook</td>\n",
       "      <td>Instagram</td>\n",
       "      <td>24-30 years</td>\n",
       "      <td>True</td>\n",
       "      <td>False</td>\n",
       "    </tr>\n",
       "  </tbody>\n",
       "</table>\n",
       "</div>"
      ],
      "text/plain": [
       "     marketing_channel subscribing_channel    age_group  y_pred  y_actual\n",
       "1070          Facebook            Facebook  36-45 years    True     False\n",
       "1510              Push            Facebook  36-45 years    True     False\n",
       "1294          Facebook           Instagram  36-45 years    True     False\n",
       "920          Instagram           Instagram  24-30 years    True     False\n",
       "783           Facebook           Instagram  24-30 years    True     False"
      ]
     },
     "execution_count": 17,
     "metadata": {},
     "output_type": "execute_result"
    }
   ],
   "source": [
    "def pred_types(preds_df):\n",
    "    tp=preds_df[(preds_df.y_actual==True) & (preds_df.y_pred==True)]\n",
    "    tn=preds_df[(preds_df.y_actual==False) & (preds_df.y_pred==False)]\n",
    "    fp=preds_df[(preds_df.y_actual==False) & (preds_df.y_pred==True)]\n",
    "    fn=preds_df[(preds_df.y_actual==True) & (preds_df.y_pred==False)]\n",
    "    return tp,tn,fp,fn\n",
    "\n",
    "tp,tn,fp,fn=pred_types(dt_preds_df)\n",
    "\n",
    "fp.head()"
   ]
  },
  {
   "cell_type": "code",
   "execution_count": 19,
   "metadata": {},
   "outputs": [
    {
     "data": {
      "application/vnd.jupyter.widget-view+json": {
       "model_id": "83252b09b85b423a860ba3d2d9889725",
       "version_major": 2,
       "version_minor": 0
      },
      "text/plain": [
       "interactive(children=(Dropdown(description='feat', options=('marketing_channel', 'subscribing_channel', 'varia…"
      ]
     },
     "metadata": {},
     "output_type": "display_data"
    }
   ],
   "source": [
    "def make_model(feat):\n",
    "    X = marketing[[feat]]\n",
    "    y = marketing['converted']\n",
    "    X_train, X_test, y_train, y_test = train_test_split(X, y, test_size=0.2)\n",
    "    categorical_features = X_train.select_dtypes(include=['object']).columns\n",
    "\n",
    "    categorical_transformer = Pipeline(steps=[\n",
    "    ('imputer', SimpleImputer(strategy='constant', fill_value='missing')),\n",
    "    ('onehot', OneHotEncoder(handle_unknown='ignore'))])\n",
    "\n",
    "    preprocessor = ColumnTransformer(\n",
    "    transformers=[\n",
    "        ('cat', categorical_transformer, categorical_features)])\n",
    "\n",
    "    pipe = Pipeline(steps=[('preprocessor', preprocessor),('classifier', DecisionTreeClassifier(max_depth=4))])\n",
    "    model=pipe.fit(X_train, y_train)\n",
    "    y_pred = pipe.predict(X_test)\n",
    "    print(\"model score: \",pipe.score(X_test, y_test))\n",
    "    cm = confusion_matrix(y_test, y_pred)\n",
    "    print(cm)\n",
    "\n",
    "inter=interactive(make_model \n",
    "   , feat = ['marketing_channel','subscribing_channel','variant','age_group'])\n",
    "\n",
    "display(inter)"
   ]
  },
  {
   "cell_type": "code",
   "execution_count": 78,
   "metadata": {},
   "outputs": [],
   "source": [
    "import pickle\n",
    "loaded_model=pickle.load(open(\"model.pkl\",\"rb\"))"
   ]
  },
  {
   "cell_type": "code",
   "execution_count": 35,
   "metadata": {},
   "outputs": [
    {
     "data": {
      "text/html": [
       "<div>\n",
       "<style scoped>\n",
       "    .dataframe tbody tr th:only-of-type {\n",
       "        vertical-align: middle;\n",
       "    }\n",
       "\n",
       "    .dataframe tbody tr th {\n",
       "        vertical-align: top;\n",
       "    }\n",
       "\n",
       "    .dataframe thead th {\n",
       "        text-align: right;\n",
       "    }\n",
       "</style>\n",
       "<table border=\"1\" class=\"dataframe\">\n",
       "  <thead>\n",
       "    <tr style=\"text-align: right;\">\n",
       "      <th></th>\n",
       "      <th>marketing_channel</th>\n",
       "      <th>subscribing_channel</th>\n",
       "      <th>age_group</th>\n",
       "    </tr>\n",
       "  </thead>\n",
       "  <tbody>\n",
       "    <tr>\n",
       "      <th>885</th>\n",
       "      <td>House Ads</td>\n",
       "      <td>Instagram</td>\n",
       "      <td>45-55 years</td>\n",
       "    </tr>\n",
       "    <tr>\n",
       "      <th>2288</th>\n",
       "      <td>Instagram</td>\n",
       "      <td>NaN</td>\n",
       "      <td>36-45 years</td>\n",
       "    </tr>\n",
       "    <tr>\n",
       "      <th>9684</th>\n",
       "      <td>House Ads</td>\n",
       "      <td>NaN</td>\n",
       "      <td>36-45 years</td>\n",
       "    </tr>\n",
       "    <tr>\n",
       "      <th>7444</th>\n",
       "      <td>House Ads</td>\n",
       "      <td>NaN</td>\n",
       "      <td>19-24 years</td>\n",
       "    </tr>\n",
       "    <tr>\n",
       "      <th>4780</th>\n",
       "      <td>House Ads</td>\n",
       "      <td>NaN</td>\n",
       "      <td>24-30 years</td>\n",
       "    </tr>\n",
       "  </tbody>\n",
       "</table>\n",
       "</div>"
      ],
      "text/plain": [
       "     marketing_channel subscribing_channel    age_group\n",
       "885          House Ads           Instagram  45-55 years\n",
       "2288         Instagram                 NaN  36-45 years\n",
       "9684         House Ads                 NaN  36-45 years\n",
       "7444         House Ads                 NaN  19-24 years\n",
       "4780         House Ads                 NaN  24-30 years"
      ]
     },
     "execution_count": 35,
     "metadata": {},
     "output_type": "execute_result"
    }
   ],
   "source": [
    "from sklearn.externals import joblib\n",
    "import pandas as pd\n",
    "import numpy as np\n",
    "import pickle\n",
    "    \n",
    "    \n",
    "# def ValuePredictor(to_predict_list):\n",
    "#     to_predict = np.array(to_predict_list).reshape(1,13)\n",
    "#     loaded_model = pickle.load(open(\"model.pkl\",\"rb\"))\n",
    "#     result = loaded_model.predict(to_predict)\n",
    "#     return result[0]\n",
    "\n",
    "\n",
    "# example_list=[44,3,15,10,1,6,0,2,1,7688,0,40,38]\n",
    "# print(ValuePredictor(example_list))\n",
    "\n",
    "X_test.head()"
   ]
  },
  {
   "cell_type": "code",
   "execution_count": 79,
   "metadata": {},
   "outputs": [
    {
     "ename": "ValueError",
     "evalue": "Specifying the columns using strings is only supported for pandas DataFrames",
     "output_type": "error",
     "traceback": [
      "\u001b[1;31m---------------------------------------------------------------------------\u001b[0m",
      "\u001b[1;31mValueError\u001b[0m                                Traceback (most recent call last)",
      "\u001b[1;32m<ipython-input-79-eb5f420c080e>\u001b[0m in \u001b[0;36m<module>\u001b[1;34m\u001b[0m\n\u001b[0;32m      1\u001b[0m \u001b[1;32mimport\u001b[0m \u001b[0mnumpy\u001b[0m \u001b[1;32mas\u001b[0m \u001b[0mnp\u001b[0m\u001b[1;33m\u001b[0m\u001b[1;33m\u001b[0m\u001b[0m\n\u001b[1;32m----> 2\u001b[1;33m \u001b[0mloaded_model\u001b[0m\u001b[1;33m.\u001b[0m\u001b[0mpredict\u001b[0m\u001b[1;33m(\u001b[0m\u001b[0mnp\u001b[0m\u001b[1;33m.\u001b[0m\u001b[0marray\u001b[0m\u001b[1;33m(\u001b[0m\u001b[1;33m[\u001b[0m\u001b[1;34m'Email'\u001b[0m\u001b[1;33m,\u001b[0m\u001b[1;34m'Email'\u001b[0m\u001b[1;33m,\u001b[0m\u001b[1;34m'0-18 years'\u001b[0m\u001b[1;33m]\u001b[0m\u001b[1;33m)\u001b[0m\u001b[1;33m.\u001b[0m\u001b[0mreshape\u001b[0m\u001b[1;33m(\u001b[0m\u001b[1;36m1\u001b[0m\u001b[1;33m,\u001b[0m\u001b[1;36m3\u001b[0m\u001b[1;33m)\u001b[0m\u001b[1;33m)\u001b[0m\u001b[1;33m\u001b[0m\u001b[1;33m\u001b[0m\u001b[0m\n\u001b[0m\u001b[0;32m      3\u001b[0m \u001b[0mloaded_model\u001b[0m\u001b[1;33m.\u001b[0m\u001b[0mpredict\u001b[0m\u001b[1;33m(\u001b[0m\u001b[0mnp\u001b[0m\u001b[1;33m.\u001b[0m\u001b[0marray\u001b[0m\u001b[1;33m(\u001b[0m\u001b[1;33m[\u001b[0m\u001b[1;36m0\u001b[0m\u001b[1;33m,\u001b[0m\u001b[1;36m0\u001b[0m\u001b[1;33m,\u001b[0m\u001b[1;36m0\u001b[0m\u001b[1;33m]\u001b[0m\u001b[1;33m)\u001b[0m\u001b[1;33m.\u001b[0m\u001b[0mreshape\u001b[0m\u001b[1;33m(\u001b[0m\u001b[1;36m1\u001b[0m\u001b[1;33m,\u001b[0m\u001b[1;36m3\u001b[0m\u001b[1;33m)\u001b[0m\u001b[1;33m)\u001b[0m\u001b[1;33m\u001b[0m\u001b[1;33m\u001b[0m\u001b[0m\n",
      "\u001b[1;32m~\\Anaconda3\\lib\\site-packages\\sklearn\\utils\\metaestimators.py\u001b[0m in \u001b[0;36m<lambda>\u001b[1;34m(*args, **kwargs)\u001b[0m\n\u001b[0;32m    114\u001b[0m \u001b[1;33m\u001b[0m\u001b[0m\n\u001b[0;32m    115\u001b[0m         \u001b[1;31m# lambda, but not partial, allows help() to work with update_wrapper\u001b[0m\u001b[1;33m\u001b[0m\u001b[1;33m\u001b[0m\u001b[1;33m\u001b[0m\u001b[0m\n\u001b[1;32m--> 116\u001b[1;33m         \u001b[0mout\u001b[0m \u001b[1;33m=\u001b[0m \u001b[1;32mlambda\u001b[0m \u001b[1;33m*\u001b[0m\u001b[0margs\u001b[0m\u001b[1;33m,\u001b[0m \u001b[1;33m**\u001b[0m\u001b[0mkwargs\u001b[0m\u001b[1;33m:\u001b[0m \u001b[0mself\u001b[0m\u001b[1;33m.\u001b[0m\u001b[0mfn\u001b[0m\u001b[1;33m(\u001b[0m\u001b[0mobj\u001b[0m\u001b[1;33m,\u001b[0m \u001b[1;33m*\u001b[0m\u001b[0margs\u001b[0m\u001b[1;33m,\u001b[0m \u001b[1;33m**\u001b[0m\u001b[0mkwargs\u001b[0m\u001b[1;33m)\u001b[0m\u001b[1;33m\u001b[0m\u001b[1;33m\u001b[0m\u001b[0m\n\u001b[0m\u001b[0;32m    117\u001b[0m         \u001b[1;31m# update the docstring of the returned function\u001b[0m\u001b[1;33m\u001b[0m\u001b[1;33m\u001b[0m\u001b[1;33m\u001b[0m\u001b[0m\n\u001b[0;32m    118\u001b[0m         \u001b[0mupdate_wrapper\u001b[0m\u001b[1;33m(\u001b[0m\u001b[0mout\u001b[0m\u001b[1;33m,\u001b[0m \u001b[0mself\u001b[0m\u001b[1;33m.\u001b[0m\u001b[0mfn\u001b[0m\u001b[1;33m)\u001b[0m\u001b[1;33m\u001b[0m\u001b[1;33m\u001b[0m\u001b[0m\n",
      "\u001b[1;32m~\\Anaconda3\\lib\\site-packages\\sklearn\\pipeline.py\u001b[0m in \u001b[0;36mpredict\u001b[1;34m(self, X, **predict_params)\u001b[0m\n\u001b[0;32m    419\u001b[0m         \u001b[0mXt\u001b[0m \u001b[1;33m=\u001b[0m \u001b[0mX\u001b[0m\u001b[1;33m\u001b[0m\u001b[1;33m\u001b[0m\u001b[0m\n\u001b[0;32m    420\u001b[0m         \u001b[1;32mfor\u001b[0m \u001b[0m_\u001b[0m\u001b[1;33m,\u001b[0m \u001b[0mname\u001b[0m\u001b[1;33m,\u001b[0m \u001b[0mtransform\u001b[0m \u001b[1;32min\u001b[0m \u001b[0mself\u001b[0m\u001b[1;33m.\u001b[0m\u001b[0m_iter\u001b[0m\u001b[1;33m(\u001b[0m\u001b[0mwith_final\u001b[0m\u001b[1;33m=\u001b[0m\u001b[1;32mFalse\u001b[0m\u001b[1;33m)\u001b[0m\u001b[1;33m:\u001b[0m\u001b[1;33m\u001b[0m\u001b[1;33m\u001b[0m\u001b[0m\n\u001b[1;32m--> 421\u001b[1;33m             \u001b[0mXt\u001b[0m \u001b[1;33m=\u001b[0m \u001b[0mtransform\u001b[0m\u001b[1;33m.\u001b[0m\u001b[0mtransform\u001b[0m\u001b[1;33m(\u001b[0m\u001b[0mXt\u001b[0m\u001b[1;33m)\u001b[0m\u001b[1;33m\u001b[0m\u001b[1;33m\u001b[0m\u001b[0m\n\u001b[0m\u001b[0;32m    422\u001b[0m         \u001b[1;32mreturn\u001b[0m \u001b[0mself\u001b[0m\u001b[1;33m.\u001b[0m\u001b[0msteps\u001b[0m\u001b[1;33m[\u001b[0m\u001b[1;33m-\u001b[0m\u001b[1;36m1\u001b[0m\u001b[1;33m]\u001b[0m\u001b[1;33m[\u001b[0m\u001b[1;33m-\u001b[0m\u001b[1;36m1\u001b[0m\u001b[1;33m]\u001b[0m\u001b[1;33m.\u001b[0m\u001b[0mpredict\u001b[0m\u001b[1;33m(\u001b[0m\u001b[0mXt\u001b[0m\u001b[1;33m,\u001b[0m \u001b[1;33m**\u001b[0m\u001b[0mpredict_params\u001b[0m\u001b[1;33m)\u001b[0m\u001b[1;33m\u001b[0m\u001b[1;33m\u001b[0m\u001b[0m\n\u001b[0;32m    423\u001b[0m \u001b[1;33m\u001b[0m\u001b[0m\n",
      "\u001b[1;32m~\\Anaconda3\\lib\\site-packages\\sklearn\\compose\\_column_transformer.py\u001b[0m in \u001b[0;36mtransform\u001b[1;34m(self, X)\u001b[0m\n\u001b[0;32m    510\u001b[0m \u001b[1;33m\u001b[0m\u001b[0m\n\u001b[0;32m    511\u001b[0m         \u001b[0mX\u001b[0m \u001b[1;33m=\u001b[0m \u001b[0m_check_X\u001b[0m\u001b[1;33m(\u001b[0m\u001b[0mX\u001b[0m\u001b[1;33m)\u001b[0m\u001b[1;33m\u001b[0m\u001b[1;33m\u001b[0m\u001b[0m\n\u001b[1;32m--> 512\u001b[1;33m         \u001b[0mXs\u001b[0m \u001b[1;33m=\u001b[0m \u001b[0mself\u001b[0m\u001b[1;33m.\u001b[0m\u001b[0m_fit_transform\u001b[0m\u001b[1;33m(\u001b[0m\u001b[0mX\u001b[0m\u001b[1;33m,\u001b[0m \u001b[1;32mNone\u001b[0m\u001b[1;33m,\u001b[0m \u001b[0m_transform_one\u001b[0m\u001b[1;33m,\u001b[0m \u001b[0mfitted\u001b[0m\u001b[1;33m=\u001b[0m\u001b[1;32mTrue\u001b[0m\u001b[1;33m)\u001b[0m\u001b[1;33m\u001b[0m\u001b[1;33m\u001b[0m\u001b[0m\n\u001b[0m\u001b[0;32m    513\u001b[0m         \u001b[0mself\u001b[0m\u001b[1;33m.\u001b[0m\u001b[0m_validate_output\u001b[0m\u001b[1;33m(\u001b[0m\u001b[0mXs\u001b[0m\u001b[1;33m)\u001b[0m\u001b[1;33m\u001b[0m\u001b[1;33m\u001b[0m\u001b[0m\n\u001b[0;32m    514\u001b[0m \u001b[1;33m\u001b[0m\u001b[0m\n",
      "\u001b[1;32m~\\Anaconda3\\lib\\site-packages\\sklearn\\compose\\_column_transformer.py\u001b[0m in \u001b[0;36m_fit_transform\u001b[1;34m(self, X, y, func, fitted)\u001b[0m\n\u001b[0;32m    410\u001b[0m                     message=self._log_message(name, idx, len(transformers)))\n\u001b[0;32m    411\u001b[0m                 for idx, (name, trans, column, weight) in enumerate(\n\u001b[1;32m--> 412\u001b[1;33m                         self._iter(fitted=fitted, replace_strings=True), 1))\n\u001b[0m\u001b[0;32m    413\u001b[0m         \u001b[1;32mexcept\u001b[0m \u001b[0mValueError\u001b[0m \u001b[1;32mas\u001b[0m \u001b[0me\u001b[0m\u001b[1;33m:\u001b[0m\u001b[1;33m\u001b[0m\u001b[1;33m\u001b[0m\u001b[0m\n\u001b[0;32m    414\u001b[0m             \u001b[1;32mif\u001b[0m \u001b[1;34m\"Expected 2D array, got 1D array instead\"\u001b[0m \u001b[1;32min\u001b[0m \u001b[0mstr\u001b[0m\u001b[1;33m(\u001b[0m\u001b[0me\u001b[0m\u001b[1;33m)\u001b[0m\u001b[1;33m:\u001b[0m\u001b[1;33m\u001b[0m\u001b[1;33m\u001b[0m\u001b[0m\n",
      "\u001b[1;32m~\\Anaconda3\\lib\\site-packages\\joblib\\parallel.py\u001b[0m in \u001b[0;36m__call__\u001b[1;34m(self, iterable)\u001b[0m\n\u001b[0;32m    919\u001b[0m             \u001b[1;31m# remaining jobs.\u001b[0m\u001b[1;33m\u001b[0m\u001b[1;33m\u001b[0m\u001b[1;33m\u001b[0m\u001b[0m\n\u001b[0;32m    920\u001b[0m             \u001b[0mself\u001b[0m\u001b[1;33m.\u001b[0m\u001b[0m_iterating\u001b[0m \u001b[1;33m=\u001b[0m \u001b[1;32mFalse\u001b[0m\u001b[1;33m\u001b[0m\u001b[1;33m\u001b[0m\u001b[0m\n\u001b[1;32m--> 921\u001b[1;33m             \u001b[1;32mif\u001b[0m \u001b[0mself\u001b[0m\u001b[1;33m.\u001b[0m\u001b[0mdispatch_one_batch\u001b[0m\u001b[1;33m(\u001b[0m\u001b[0miterator\u001b[0m\u001b[1;33m)\u001b[0m\u001b[1;33m:\u001b[0m\u001b[1;33m\u001b[0m\u001b[1;33m\u001b[0m\u001b[0m\n\u001b[0m\u001b[0;32m    922\u001b[0m                 \u001b[0mself\u001b[0m\u001b[1;33m.\u001b[0m\u001b[0m_iterating\u001b[0m \u001b[1;33m=\u001b[0m \u001b[0mself\u001b[0m\u001b[1;33m.\u001b[0m\u001b[0m_original_iterator\u001b[0m \u001b[1;32mis\u001b[0m \u001b[1;32mnot\u001b[0m \u001b[1;32mNone\u001b[0m\u001b[1;33m\u001b[0m\u001b[1;33m\u001b[0m\u001b[0m\n\u001b[0;32m    923\u001b[0m \u001b[1;33m\u001b[0m\u001b[0m\n",
      "\u001b[1;32m~\\Anaconda3\\lib\\site-packages\\joblib\\parallel.py\u001b[0m in \u001b[0;36mdispatch_one_batch\u001b[1;34m(self, iterator)\u001b[0m\n\u001b[0;32m    752\u001b[0m             tasks = BatchedCalls(itertools.islice(iterator, batch_size),\n\u001b[0;32m    753\u001b[0m                                  \u001b[0mself\u001b[0m\u001b[1;33m.\u001b[0m\u001b[0m_backend\u001b[0m\u001b[1;33m.\u001b[0m\u001b[0mget_nested_backend\u001b[0m\u001b[1;33m(\u001b[0m\u001b[1;33m)\u001b[0m\u001b[1;33m,\u001b[0m\u001b[1;33m\u001b[0m\u001b[1;33m\u001b[0m\u001b[0m\n\u001b[1;32m--> 754\u001b[1;33m                                  self._pickle_cache)\n\u001b[0m\u001b[0;32m    755\u001b[0m             \u001b[1;32mif\u001b[0m \u001b[0mlen\u001b[0m\u001b[1;33m(\u001b[0m\u001b[0mtasks\u001b[0m\u001b[1;33m)\u001b[0m \u001b[1;33m==\u001b[0m \u001b[1;36m0\u001b[0m\u001b[1;33m:\u001b[0m\u001b[1;33m\u001b[0m\u001b[1;33m\u001b[0m\u001b[0m\n\u001b[0;32m    756\u001b[0m                 \u001b[1;31m# No more tasks available in the iterator: tell caller to stop.\u001b[0m\u001b[1;33m\u001b[0m\u001b[1;33m\u001b[0m\u001b[1;33m\u001b[0m\u001b[0m\n",
      "\u001b[1;32m~\\Anaconda3\\lib\\site-packages\\joblib\\parallel.py\u001b[0m in \u001b[0;36m__init__\u001b[1;34m(self, iterator_slice, backend_and_jobs, pickle_cache)\u001b[0m\n\u001b[0;32m    208\u001b[0m \u001b[1;33m\u001b[0m\u001b[0m\n\u001b[0;32m    209\u001b[0m     \u001b[1;32mdef\u001b[0m \u001b[0m__init__\u001b[0m\u001b[1;33m(\u001b[0m\u001b[0mself\u001b[0m\u001b[1;33m,\u001b[0m \u001b[0miterator_slice\u001b[0m\u001b[1;33m,\u001b[0m \u001b[0mbackend_and_jobs\u001b[0m\u001b[1;33m,\u001b[0m \u001b[0mpickle_cache\u001b[0m\u001b[1;33m=\u001b[0m\u001b[1;32mNone\u001b[0m\u001b[1;33m)\u001b[0m\u001b[1;33m:\u001b[0m\u001b[1;33m\u001b[0m\u001b[1;33m\u001b[0m\u001b[0m\n\u001b[1;32m--> 210\u001b[1;33m         \u001b[0mself\u001b[0m\u001b[1;33m.\u001b[0m\u001b[0mitems\u001b[0m \u001b[1;33m=\u001b[0m \u001b[0mlist\u001b[0m\u001b[1;33m(\u001b[0m\u001b[0miterator_slice\u001b[0m\u001b[1;33m)\u001b[0m\u001b[1;33m\u001b[0m\u001b[1;33m\u001b[0m\u001b[0m\n\u001b[0m\u001b[0;32m    211\u001b[0m         \u001b[0mself\u001b[0m\u001b[1;33m.\u001b[0m\u001b[0m_size\u001b[0m \u001b[1;33m=\u001b[0m \u001b[0mlen\u001b[0m\u001b[1;33m(\u001b[0m\u001b[0mself\u001b[0m\u001b[1;33m.\u001b[0m\u001b[0mitems\u001b[0m\u001b[1;33m)\u001b[0m\u001b[1;33m\u001b[0m\u001b[1;33m\u001b[0m\u001b[0m\n\u001b[0;32m    212\u001b[0m         \u001b[1;32mif\u001b[0m \u001b[0misinstance\u001b[0m\u001b[1;33m(\u001b[0m\u001b[0mbackend_and_jobs\u001b[0m\u001b[1;33m,\u001b[0m \u001b[0mtuple\u001b[0m\u001b[1;33m)\u001b[0m\u001b[1;33m:\u001b[0m\u001b[1;33m\u001b[0m\u001b[1;33m\u001b[0m\u001b[0m\n",
      "\u001b[1;32m~\\Anaconda3\\lib\\site-packages\\sklearn\\compose\\_column_transformer.py\u001b[0m in \u001b[0;36m<genexpr>\u001b[1;34m(.0)\u001b[0m\n\u001b[0;32m    409\u001b[0m                     \u001b[0mmessage_clsname\u001b[0m\u001b[1;33m=\u001b[0m\u001b[1;34m'ColumnTransformer'\u001b[0m\u001b[1;33m,\u001b[0m\u001b[1;33m\u001b[0m\u001b[1;33m\u001b[0m\u001b[0m\n\u001b[0;32m    410\u001b[0m                     message=self._log_message(name, idx, len(transformers)))\n\u001b[1;32m--> 411\u001b[1;33m                 for idx, (name, trans, column, weight) in enumerate(\n\u001b[0m\u001b[0;32m    412\u001b[0m                         self._iter(fitted=fitted, replace_strings=True), 1))\n\u001b[0;32m    413\u001b[0m         \u001b[1;32mexcept\u001b[0m \u001b[0mValueError\u001b[0m \u001b[1;32mas\u001b[0m \u001b[0me\u001b[0m\u001b[1;33m:\u001b[0m\u001b[1;33m\u001b[0m\u001b[1;33m\u001b[0m\u001b[0m\n",
      "\u001b[1;32m~\\Anaconda3\\lib\\site-packages\\sklearn\\compose\\_column_transformer.py\u001b[0m in \u001b[0;36m_get_column\u001b[1;34m(X, key)\u001b[0m\n\u001b[0;32m    628\u001b[0m             \u001b[1;32mreturn\u001b[0m \u001b[0mX\u001b[0m\u001b[1;33m.\u001b[0m\u001b[0mloc\u001b[0m\u001b[1;33m[\u001b[0m\u001b[1;33m:\u001b[0m\u001b[1;33m,\u001b[0m \u001b[0mkey\u001b[0m\u001b[1;33m]\u001b[0m\u001b[1;33m\u001b[0m\u001b[1;33m\u001b[0m\u001b[0m\n\u001b[0;32m    629\u001b[0m         \u001b[1;32melse\u001b[0m\u001b[1;33m:\u001b[0m\u001b[1;33m\u001b[0m\u001b[1;33m\u001b[0m\u001b[0m\n\u001b[1;32m--> 630\u001b[1;33m             raise ValueError(\"Specifying the columns using strings is only \"\n\u001b[0m\u001b[0;32m    631\u001b[0m                              \"supported for pandas DataFrames\")\n\u001b[0;32m    632\u001b[0m     \u001b[1;32melse\u001b[0m\u001b[1;33m:\u001b[0m\u001b[1;33m\u001b[0m\u001b[1;33m\u001b[0m\u001b[0m\n",
      "\u001b[1;31mValueError\u001b[0m: Specifying the columns using strings is only supported for pandas DataFrames"
     ]
    }
   ],
   "source": [
    "import numpy as np\n",
    "loaded_model.predict(np.array(['Email','Email','0-18 years']).reshape(1,3))\n",
    "loaded_model.predict(np.array([0,0,0]).reshape(1,3))"
   ]
  },
  {
   "cell_type": "code",
   "execution_count": null,
   "metadata": {},
   "outputs": [],
   "source": []
  }
 ],
 "metadata": {
  "kernelspec": {
   "display_name": "Python 3",
   "language": "python",
   "name": "python3"
  },
  "language_info": {
   "codemirror_mode": {
    "name": "ipython",
    "version": 3
   },
   "file_extension": ".py",
   "mimetype": "text/x-python",
   "name": "python",
   "nbconvert_exporter": "python",
   "pygments_lexer": "ipython3",
   "version": "3.7.3"
  }
 },
 "nbformat": 4,
 "nbformat_minor": 4
}
